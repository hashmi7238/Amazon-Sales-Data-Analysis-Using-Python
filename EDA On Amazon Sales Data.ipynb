{
 "cells": [
  {
   "cell_type": "markdown",
   "id": "cadeaf9c",
   "metadata": {},
   "source": [
    "# AMAZON SALES DATASET ANALYSIS"
   ]
  },
  {
   "cell_type": "markdown",
   "id": "090a0cf6",
   "metadata": {},
   "source": [
    "# About Data\n",
    "This dataset is having the data of 1K+ Amazon Product's Ratings and Reviews as per their details listed on the official website of Amazon.This dataset is scraped through BeautifulSoup and WebDriver using Python."
   ]
  },
  {
   "cell_type": "markdown",
   "id": "decb08ff",
   "metadata": {},
   "source": [
    "# Features\n",
    "product_id - Product ID\n",
    "\n",
    "product_name - Name of the Product\n",
    "\n",
    "category - Category of the Product\n",
    "\n",
    "discounted_price - Discounted Price of the Product\n",
    "\n",
    "actual_price - Actual Price of the Product\n",
    "\n",
    "discount_percentage - Percentage of Discount for the Product\n",
    "\n",
    "rating - Rating of the Product\n",
    "\n",
    "rating_count - Number of people who voted for the Amazon rating\n",
    "\n",
    "about_product - Description about the Product\n",
    "\n",
    "user_id - ID of the user who wrote review for the Product\n",
    "\n",
    "user_name - Name of the user who wrote review for the Product\n",
    "\n",
    "review_id - ID of the user review\n",
    "\n",
    "review_title - Short review\n",
    "\n",
    "review_content - Long review\n",
    "\n",
    "img_link - Image Link of the Product\n",
    "\n",
    "product_link - Official Website Link of the Product"
   ]
  },
  {
   "cell_type": "markdown",
   "id": "2d3fc521",
   "metadata": {},
   "source": [
    "# Task\n",
    "Exploring the Amazon Sales Dataset involves a step-by-step process. First, we clean and prepare the data to ensure it's accurate and consistent. Then, we summarize the data using descriptive statistics like averages and ranges. Next, we visualize the data with charts and graphs to see patterns and relationships. We detect outliers, which are unusual data points, and test our assumptions about the data. We divide the data into groups for better understanding and finally, we summarize our findings."
   ]
  },
  {
   "cell_type": "markdown",
   "id": "e7005b65",
   "metadata": {},
   "source": [
    "# Objective\n",
    "The primary objective of analyzing the Amazon Sales Dataset is to explore into product categories, prices, ratings, and sales patterns to identify characteristics that resonate with consumers and motivate them to purchase.¶\n",
    "\n",
    "Explore into product categories, prices, ratings, and sales patterns to identify characteristics that resonate with consumers and motivate them to purchase.\n",
    "\n",
    "Translate insights into actionable recommendations that optimize product development, inform marketing strategies, and boost your competitive edge.\n",
    "\n",
    "Equip businesses with the knowledge to create products that cater to evolving consumer needs and desires.\n",
    "\n",
    "Craft communication strategies that resonate with specific demographics and maximize engagement.\n",
    "\n",
    "Facilitate a marketplace where products find their perfect match in the hearts of consumers."
   ]
  },
  {
   "cell_type": "markdown",
   "id": "20d737dd",
   "metadata": {},
   "source": [
    "# Import Libraries"
   ]
  },
  {
   "cell_type": "code",
   "execution_count": 30,
   "id": "f8072fdb",
   "metadata": {},
   "outputs": [],
   "source": [
    "import pandas as pd\n",
    "import numpy as np\n",
    "import matplotlib.pyplot as plt\n",
    "import seaborn as sns\n",
    "import scipy as sp\n",
    "%matplotlib inline\n",
    "import warnings\n",
    "warnings.filterwarnings('ignore')"
   ]
  },
  {
   "cell_type": "code",
   "execution_count": 2,
   "id": "dd63cb74",
   "metadata": {},
   "outputs": [
    {
     "data": {
      "text/html": [
       "<div>\n",
       "<style scoped>\n",
       "    .dataframe tbody tr th:only-of-type {\n",
       "        vertical-align: middle;\n",
       "    }\n",
       "\n",
       "    .dataframe tbody tr th {\n",
       "        vertical-align: top;\n",
       "    }\n",
       "\n",
       "    .dataframe thead th {\n",
       "        text-align: right;\n",
       "    }\n",
       "</style>\n",
       "<table border=\"1\" class=\"dataframe\">\n",
       "  <thead>\n",
       "    <tr style=\"text-align: right;\">\n",
       "      <th></th>\n",
       "      <th>product_id</th>\n",
       "      <th>product_name</th>\n",
       "      <th>category</th>\n",
       "      <th>discounted_price</th>\n",
       "      <th>actual_price</th>\n",
       "      <th>discount_percentage</th>\n",
       "      <th>rating</th>\n",
       "      <th>rating_count</th>\n",
       "      <th>about_product</th>\n",
       "      <th>user_id</th>\n",
       "      <th>user_name</th>\n",
       "      <th>review_id</th>\n",
       "      <th>review_title</th>\n",
       "      <th>review_content</th>\n",
       "      <th>img_link</th>\n",
       "      <th>product_link</th>\n",
       "    </tr>\n",
       "  </thead>\n",
       "  <tbody>\n",
       "    <tr>\n",
       "      <th>0</th>\n",
       "      <td>B07JW9H4J1</td>\n",
       "      <td>Wayona Nylon Braided USB to Lightning Fast Cha...</td>\n",
       "      <td>Computers&amp;Accessories|Accessories&amp;Peripherals|...</td>\n",
       "      <td>₹399</td>\n",
       "      <td>₹1,099</td>\n",
       "      <td>64%</td>\n",
       "      <td>4.2</td>\n",
       "      <td>24,269</td>\n",
       "      <td>High Compatibility : Compatible With iPhone 12...</td>\n",
       "      <td>AG3D6O4STAQKAY2UVGEUV46KN35Q,AHMY5CWJMMK5BJRBB...</td>\n",
       "      <td>Manav,Adarsh gupta,Sundeep,S.Sayeed Ahmed,jasp...</td>\n",
       "      <td>R3HXWT0LRP0NMF,R2AJM3LFTLZHFO,R6AQJGUP6P86,R1K...</td>\n",
       "      <td>Satisfied,Charging is really fast,Value for mo...</td>\n",
       "      <td>Looks durable Charging is fine tooNo complains...</td>\n",
       "      <td>https://m.media-amazon.com/images/W/WEBP_40237...</td>\n",
       "      <td>https://www.amazon.in/Wayona-Braided-WN3LG1-Sy...</td>\n",
       "    </tr>\n",
       "    <tr>\n",
       "      <th>1</th>\n",
       "      <td>B098NS6PVG</td>\n",
       "      <td>Ambrane Unbreakable 60W / 3A Fast Charging 1.5...</td>\n",
       "      <td>Computers&amp;Accessories|Accessories&amp;Peripherals|...</td>\n",
       "      <td>₹199</td>\n",
       "      <td>₹349</td>\n",
       "      <td>43%</td>\n",
       "      <td>4.0</td>\n",
       "      <td>43,994</td>\n",
       "      <td>Compatible with all Type C enabled devices, be...</td>\n",
       "      <td>AECPFYFQVRUWC3KGNLJIOREFP5LQ,AGYYVPDD7YG7FYNBX...</td>\n",
       "      <td>ArdKn,Nirbhay kumar,Sagar Viswanathan,Asp,Plac...</td>\n",
       "      <td>RGIQEG07R9HS2,R1SMWZQ86XIN8U,R2J3Y1WL29GWDE,RY...</td>\n",
       "      <td>A Good Braided Cable for Your Type C Device,Go...</td>\n",
       "      <td>I ordered this cable to connect my phone to An...</td>\n",
       "      <td>https://m.media-amazon.com/images/W/WEBP_40237...</td>\n",
       "      <td>https://www.amazon.in/Ambrane-Unbreakable-Char...</td>\n",
       "    </tr>\n",
       "    <tr>\n",
       "      <th>2</th>\n",
       "      <td>B096MSW6CT</td>\n",
       "      <td>Sounce Fast Phone Charging Cable &amp; Data Sync U...</td>\n",
       "      <td>Computers&amp;Accessories|Accessories&amp;Peripherals|...</td>\n",
       "      <td>₹199</td>\n",
       "      <td>₹1,899</td>\n",
       "      <td>90%</td>\n",
       "      <td>3.9</td>\n",
       "      <td>7,928</td>\n",
       "      <td>【 Fast Charger&amp; Data Sync】-With built-in safet...</td>\n",
       "      <td>AGU3BBQ2V2DDAMOAKGFAWDDQ6QHA,AESFLDV2PT363T2AQ...</td>\n",
       "      <td>Kunal,Himanshu,viswanath,sai niharka,saqib mal...</td>\n",
       "      <td>R3J3EQQ9TZI5ZJ,R3E7WBGK7ID0KV,RWU79XKQ6I1QF,R2...</td>\n",
       "      <td>Good speed for earlier versions,Good Product,W...</td>\n",
       "      <td>Not quite durable and sturdy,https://m.media-a...</td>\n",
       "      <td>https://m.media-amazon.com/images/W/WEBP_40237...</td>\n",
       "      <td>https://www.amazon.in/Sounce-iPhone-Charging-C...</td>\n",
       "    </tr>\n",
       "    <tr>\n",
       "      <th>3</th>\n",
       "      <td>B08HDJ86NZ</td>\n",
       "      <td>boAt Deuce USB 300 2 in 1 Type-C &amp; Micro USB S...</td>\n",
       "      <td>Computers&amp;Accessories|Accessories&amp;Peripherals|...</td>\n",
       "      <td>₹329</td>\n",
       "      <td>₹699</td>\n",
       "      <td>53%</td>\n",
       "      <td>4.2</td>\n",
       "      <td>94,363</td>\n",
       "      <td>The boAt Deuce USB 300 2 in 1 cable is compati...</td>\n",
       "      <td>AEWAZDZZJLQUYVOVGBEUKSLXHQ5A,AG5HTSFRRE6NL3M5S...</td>\n",
       "      <td>Omkar dhale,JD,HEMALATHA,Ajwadh a.,amar singh ...</td>\n",
       "      <td>R3EEUZKKK9J36I,R3HJVYCLYOY554,REDECAZ7AMPQC,R1...</td>\n",
       "      <td>Good product,Good one,Nice,Really nice product...</td>\n",
       "      <td>Good product,long wire,Charges good,Nice,I bou...</td>\n",
       "      <td>https://m.media-amazon.com/images/I/41V5FtEWPk...</td>\n",
       "      <td>https://www.amazon.in/Deuce-300-Resistant-Tang...</td>\n",
       "    </tr>\n",
       "    <tr>\n",
       "      <th>4</th>\n",
       "      <td>B08CF3B7N1</td>\n",
       "      <td>Portronics Konnect L 1.2M Fast Charging 3A 8 P...</td>\n",
       "      <td>Computers&amp;Accessories|Accessories&amp;Peripherals|...</td>\n",
       "      <td>₹154</td>\n",
       "      <td>₹399</td>\n",
       "      <td>61%</td>\n",
       "      <td>4.2</td>\n",
       "      <td>16,905</td>\n",
       "      <td>[CHARGE &amp; SYNC FUNCTION]- This cable comes wit...</td>\n",
       "      <td>AE3Q6KSUK5P75D5HFYHCRAOLODSA,AFUGIFH5ZAFXRDSZH...</td>\n",
       "      <td>rahuls6099,Swasat Borah,Ajay Wadke,Pranali,RVK...</td>\n",
       "      <td>R1BP4L2HH9TFUP,R16PVJEXKV6QZS,R2UPDB81N66T4P,R...</td>\n",
       "      <td>As good as original,Decent,Good one for second...</td>\n",
       "      <td>Bought this instead of original apple, does th...</td>\n",
       "      <td>https://m.media-amazon.com/images/W/WEBP_40237...</td>\n",
       "      <td>https://www.amazon.in/Portronics-Konnect-POR-1...</td>\n",
       "    </tr>\n",
       "  </tbody>\n",
       "</table>\n",
       "</div>"
      ],
      "text/plain": [
       "   product_id                                       product_name  \\\n",
       "0  B07JW9H4J1  Wayona Nylon Braided USB to Lightning Fast Cha...   \n",
       "1  B098NS6PVG  Ambrane Unbreakable 60W / 3A Fast Charging 1.5...   \n",
       "2  B096MSW6CT  Sounce Fast Phone Charging Cable & Data Sync U...   \n",
       "3  B08HDJ86NZ  boAt Deuce USB 300 2 in 1 Type-C & Micro USB S...   \n",
       "4  B08CF3B7N1  Portronics Konnect L 1.2M Fast Charging 3A 8 P...   \n",
       "\n",
       "                                            category discounted_price  \\\n",
       "0  Computers&Accessories|Accessories&Peripherals|...             ₹399   \n",
       "1  Computers&Accessories|Accessories&Peripherals|...             ₹199   \n",
       "2  Computers&Accessories|Accessories&Peripherals|...             ₹199   \n",
       "3  Computers&Accessories|Accessories&Peripherals|...             ₹329   \n",
       "4  Computers&Accessories|Accessories&Peripherals|...             ₹154   \n",
       "\n",
       "  actual_price discount_percentage rating rating_count  \\\n",
       "0       ₹1,099                 64%    4.2       24,269   \n",
       "1         ₹349                 43%    4.0       43,994   \n",
       "2       ₹1,899                 90%    3.9        7,928   \n",
       "3         ₹699                 53%    4.2       94,363   \n",
       "4         ₹399                 61%    4.2       16,905   \n",
       "\n",
       "                                       about_product  \\\n",
       "0  High Compatibility : Compatible With iPhone 12...   \n",
       "1  Compatible with all Type C enabled devices, be...   \n",
       "2  【 Fast Charger& Data Sync】-With built-in safet...   \n",
       "3  The boAt Deuce USB 300 2 in 1 cable is compati...   \n",
       "4  [CHARGE & SYNC FUNCTION]- This cable comes wit...   \n",
       "\n",
       "                                             user_id  \\\n",
       "0  AG3D6O4STAQKAY2UVGEUV46KN35Q,AHMY5CWJMMK5BJRBB...   \n",
       "1  AECPFYFQVRUWC3KGNLJIOREFP5LQ,AGYYVPDD7YG7FYNBX...   \n",
       "2  AGU3BBQ2V2DDAMOAKGFAWDDQ6QHA,AESFLDV2PT363T2AQ...   \n",
       "3  AEWAZDZZJLQUYVOVGBEUKSLXHQ5A,AG5HTSFRRE6NL3M5S...   \n",
       "4  AE3Q6KSUK5P75D5HFYHCRAOLODSA,AFUGIFH5ZAFXRDSZH...   \n",
       "\n",
       "                                           user_name  \\\n",
       "0  Manav,Adarsh gupta,Sundeep,S.Sayeed Ahmed,jasp...   \n",
       "1  ArdKn,Nirbhay kumar,Sagar Viswanathan,Asp,Plac...   \n",
       "2  Kunal,Himanshu,viswanath,sai niharka,saqib mal...   \n",
       "3  Omkar dhale,JD,HEMALATHA,Ajwadh a.,amar singh ...   \n",
       "4  rahuls6099,Swasat Borah,Ajay Wadke,Pranali,RVK...   \n",
       "\n",
       "                                           review_id  \\\n",
       "0  R3HXWT0LRP0NMF,R2AJM3LFTLZHFO,R6AQJGUP6P86,R1K...   \n",
       "1  RGIQEG07R9HS2,R1SMWZQ86XIN8U,R2J3Y1WL29GWDE,RY...   \n",
       "2  R3J3EQQ9TZI5ZJ,R3E7WBGK7ID0KV,RWU79XKQ6I1QF,R2...   \n",
       "3  R3EEUZKKK9J36I,R3HJVYCLYOY554,REDECAZ7AMPQC,R1...   \n",
       "4  R1BP4L2HH9TFUP,R16PVJEXKV6QZS,R2UPDB81N66T4P,R...   \n",
       "\n",
       "                                        review_title  \\\n",
       "0  Satisfied,Charging is really fast,Value for mo...   \n",
       "1  A Good Braided Cable for Your Type C Device,Go...   \n",
       "2  Good speed for earlier versions,Good Product,W...   \n",
       "3  Good product,Good one,Nice,Really nice product...   \n",
       "4  As good as original,Decent,Good one for second...   \n",
       "\n",
       "                                      review_content  \\\n",
       "0  Looks durable Charging is fine tooNo complains...   \n",
       "1  I ordered this cable to connect my phone to An...   \n",
       "2  Not quite durable and sturdy,https://m.media-a...   \n",
       "3  Good product,long wire,Charges good,Nice,I bou...   \n",
       "4  Bought this instead of original apple, does th...   \n",
       "\n",
       "                                            img_link  \\\n",
       "0  https://m.media-amazon.com/images/W/WEBP_40237...   \n",
       "1  https://m.media-amazon.com/images/W/WEBP_40237...   \n",
       "2  https://m.media-amazon.com/images/W/WEBP_40237...   \n",
       "3  https://m.media-amazon.com/images/I/41V5FtEWPk...   \n",
       "4  https://m.media-amazon.com/images/W/WEBP_40237...   \n",
       "\n",
       "                                        product_link  \n",
       "0  https://www.amazon.in/Wayona-Braided-WN3LG1-Sy...  \n",
       "1  https://www.amazon.in/Ambrane-Unbreakable-Char...  \n",
       "2  https://www.amazon.in/Sounce-iPhone-Charging-C...  \n",
       "3  https://www.amazon.in/Deuce-300-Resistant-Tang...  \n",
       "4  https://www.amazon.in/Portronics-Konnect-POR-1...  "
      ]
     },
     "execution_count": 2,
     "metadata": {},
     "output_type": "execute_result"
    }
   ],
   "source": [
    "#Load Data\n",
    "amazon = pd.read_csv(\"E:\\\\Tech notes\\\\Data analyst portfolio\\DA Project\\\\Amazon Sales Data EDA\\\\amazon.csv\")\n",
    "amazon.head(5)"
   ]
  },
  {
   "cell_type": "code",
   "execution_count": 3,
   "id": "df547e22",
   "metadata": {},
   "outputs": [
    {
     "name": "stdout",
     "output_type": "stream",
     "text": [
      "product_id\n",
      "product_name\n",
      "category\n",
      "discounted_price\n",
      "actual_price\n",
      "discount_percentage\n",
      "rating\n",
      "rating_count\n",
      "about_product\n",
      "user_id\n",
      "user_name\n",
      "review_id\n",
      "review_title\n",
      "review_content\n",
      "img_link\n",
      "product_link\n"
     ]
    }
   ],
   "source": [
    "#Explore Columns names\n",
    "a = amazon.columns\n",
    "for i in a:\n",
    "    print(i)"
   ]
  },
  {
   "cell_type": "code",
   "execution_count": 4,
   "id": "26f57ffb",
   "metadata": {},
   "outputs": [
    {
     "name": "stdout",
     "output_type": "stream",
     "text": [
      "Number of Rows:  1465\n",
      "Number of Columns:  16\n"
     ]
    }
   ],
   "source": [
    "#Shape of data (row x columns)\n",
    "print(\"Number of Rows: \",amazon.shape[0])\n",
    "print(\"Number of Columns: \",amazon.shape[1])"
   ]
  },
  {
   "cell_type": "code",
   "execution_count": 5,
   "id": "0338b62a",
   "metadata": {},
   "outputs": [
    {
     "name": "stdout",
     "output_type": "stream",
     "text": [
      "<class 'pandas.core.frame.DataFrame'>\n",
      "RangeIndex: 1465 entries, 0 to 1464\n",
      "Data columns (total 16 columns):\n",
      " #   Column               Non-Null Count  Dtype \n",
      "---  ------               --------------  ----- \n",
      " 0   product_id           1465 non-null   object\n",
      " 1   product_name         1465 non-null   object\n",
      " 2   category             1465 non-null   object\n",
      " 3   discounted_price     1465 non-null   object\n",
      " 4   actual_price         1465 non-null   object\n",
      " 5   discount_percentage  1465 non-null   object\n",
      " 6   rating               1465 non-null   object\n",
      " 7   rating_count         1463 non-null   object\n",
      " 8   about_product        1465 non-null   object\n",
      " 9   user_id              1465 non-null   object\n",
      " 10  user_name            1465 non-null   object\n",
      " 11  review_id            1465 non-null   object\n",
      " 12  review_title         1465 non-null   object\n",
      " 13  review_content       1465 non-null   object\n",
      " 14  img_link             1465 non-null   object\n",
      " 15  product_link         1465 non-null   object\n",
      "dtypes: object(16)\n",
      "memory usage: 183.3+ KB\n"
     ]
    }
   ],
   "source": [
    "#Columns datatype info\n",
    "amazon.info()"
   ]
  },
  {
   "cell_type": "code",
   "execution_count": 6,
   "id": "397b278e",
   "metadata": {},
   "outputs": [
    {
     "data": {
      "text/plain": [
       "product_id             0\n",
       "product_name           0\n",
       "category               0\n",
       "discounted_price       0\n",
       "actual_price           0\n",
       "discount_percentage    0\n",
       "rating                 0\n",
       "rating_count           2\n",
       "about_product          0\n",
       "user_id                0\n",
       "user_name              0\n",
       "review_id              0\n",
       "review_title           0\n",
       "review_content         0\n",
       "img_link               0\n",
       "product_link           0\n",
       "dtype: int64"
      ]
     },
     "execution_count": 6,
     "metadata": {},
     "output_type": "execute_result"
    }
   ],
   "source": [
    "#Check if any null value\n",
    "amazon.isnull().sum()"
   ]
  },
  {
   "cell_type": "markdown",
   "id": "2eb3b9c9",
   "metadata": {},
   "source": [
    "# Quick Recap 1"
   ]
  },
  {
   "cell_type": "markdown",
   "id": "c0ad7bda",
   "metadata": {},
   "source": [
    "* Rows = 1465 , Columns = 16\n",
    "* DataTypes of all columns is object.\n",
    "* \"rating_count\" column has 2 missing value."
   ]
  },
  {
   "cell_type": "markdown",
   "id": "639c4dc4",
   "metadata": {},
   "source": [
    "# Change DataTypes"
   ]
  },
  {
   "cell_type": "code",
   "execution_count": 7,
   "id": "88d1c988",
   "metadata": {},
   "outputs": [],
   "source": [
    "#Change datatype of column \"discounted_price\" and \"actual_price\"\n",
    "amazon['discounted_price'] = amazon['discounted_price'].str.replace(\"₹\",'')\n",
    "amazon['discounted_price'] = amazon['discounted_price'].str.replace(\",\",'')\n",
    "amazon['discounted_price'] = amazon['discounted_price'].astype('float64')\n",
    "\n",
    "amazon['actual_price'] = amazon['actual_price'].str.replace(\"₹\",'')\n",
    "amazon['actual_price'] = amazon['actual_price'].str.replace(\",\",'')\n",
    "amazon['actual_price'] = amazon['actual_price'].astype('float64')"
   ]
  },
  {
   "cell_type": "code",
   "execution_count": 8,
   "id": "c5b03271",
   "metadata": {},
   "outputs": [],
   "source": [
    "#change datatype and values of column \"discounted_percentage\"\n",
    "amazon['discount_percentage'] = amazon['discount_percentage'].str.replace('%','').astype('float64')\n",
    "\n",
    "amazon['discount_percentage'] = amazon['discount_percentage'] / 100"
   ]
  },
  {
   "cell_type": "code",
   "execution_count": 9,
   "id": "4369d95f",
   "metadata": {},
   "outputs": [
    {
     "data": {
      "text/plain": [
       "4.1    244\n",
       "4.3    230\n",
       "4.2    228\n",
       "4.0    129\n",
       "3.9    123\n",
       "4.4    123\n",
       "3.8     86\n",
       "4.5     75\n",
       "4       52\n",
       "3.7     42\n",
       "3.6     35\n",
       "3.5     26\n",
       "4.6     17\n",
       "3.3     16\n",
       "3.4     10\n",
       "4.7      6\n",
       "3.1      4\n",
       "5.0      3\n",
       "3.0      3\n",
       "4.8      3\n",
       "3.2      2\n",
       "2.8      2\n",
       "2.3      1\n",
       "|        1\n",
       "2        1\n",
       "3        1\n",
       "2.6      1\n",
       "2.9      1\n",
       "Name: rating, dtype: int64"
      ]
     },
     "execution_count": 9,
     "metadata": {},
     "output_type": "execute_result"
    }
   ],
   "source": [
    "#finding unknown value in rating column\n",
    "amazon['rating'].value_counts()"
   ]
  },
  {
   "cell_type": "code",
   "execution_count": 10,
   "id": "e1eba570",
   "metadata": {},
   "outputs": [
    {
     "data": {
      "text/html": [
       "<div>\n",
       "<style scoped>\n",
       "    .dataframe tbody tr th:only-of-type {\n",
       "        vertical-align: middle;\n",
       "    }\n",
       "\n",
       "    .dataframe tbody tr th {\n",
       "        vertical-align: top;\n",
       "    }\n",
       "\n",
       "    .dataframe thead th {\n",
       "        text-align: right;\n",
       "    }\n",
       "</style>\n",
       "<table border=\"1\" class=\"dataframe\">\n",
       "  <thead>\n",
       "    <tr style=\"text-align: right;\">\n",
       "      <th></th>\n",
       "      <th>product_id</th>\n",
       "      <th>product_name</th>\n",
       "      <th>category</th>\n",
       "      <th>discounted_price</th>\n",
       "      <th>actual_price</th>\n",
       "      <th>discount_percentage</th>\n",
       "      <th>rating</th>\n",
       "      <th>rating_count</th>\n",
       "      <th>about_product</th>\n",
       "      <th>user_id</th>\n",
       "      <th>user_name</th>\n",
       "      <th>review_id</th>\n",
       "      <th>review_title</th>\n",
       "      <th>review_content</th>\n",
       "      <th>img_link</th>\n",
       "      <th>product_link</th>\n",
       "    </tr>\n",
       "  </thead>\n",
       "  <tbody>\n",
       "    <tr>\n",
       "      <th>1279</th>\n",
       "      <td>B08L12N5H1</td>\n",
       "      <td>Eureka Forbes car Vac 100 Watts Powerful Sucti...</td>\n",
       "      <td>Home&amp;Kitchen|Kitchen&amp;HomeAppliances|Vacuum,Cle...</td>\n",
       "      <td>2099.0</td>\n",
       "      <td>2499.0</td>\n",
       "      <td>0.16</td>\n",
       "      <td>|</td>\n",
       "      <td>992</td>\n",
       "      <td>No Installation is provided for this product|1...</td>\n",
       "      <td>AGTDSNT2FKVYEPDPXAA673AIS44A,AER2XFSWNN4LAUCJ5...</td>\n",
       "      <td>Divya,Dr Nefario,Deekshith,Preeti,Prasanth R,P...</td>\n",
       "      <td>R2KKTKM4M9RDVJ,R1O692MZOBTE79,R2WRSEWL56SOS4,R...</td>\n",
       "      <td>Decent product,doesn't pick up sand,Ok ok,Must...</td>\n",
       "      <td>Does the job well,doesn't work on sand. though...</td>\n",
       "      <td>https://m.media-amazon.com/images/W/WEBP_40237...</td>\n",
       "      <td>https://www.amazon.in/Eureka-Forbes-Vacuum-Cle...</td>\n",
       "    </tr>\n",
       "  </tbody>\n",
       "</table>\n",
       "</div>"
      ],
      "text/plain": [
       "      product_id                                       product_name  \\\n",
       "1279  B08L12N5H1  Eureka Forbes car Vac 100 Watts Powerful Sucti...   \n",
       "\n",
       "                                               category  discounted_price  \\\n",
       "1279  Home&Kitchen|Kitchen&HomeAppliances|Vacuum,Cle...            2099.0   \n",
       "\n",
       "      actual_price  discount_percentage rating rating_count  \\\n",
       "1279        2499.0                 0.16      |          992   \n",
       "\n",
       "                                          about_product  \\\n",
       "1279  No Installation is provided for this product|1...   \n",
       "\n",
       "                                                user_id  \\\n",
       "1279  AGTDSNT2FKVYEPDPXAA673AIS44A,AER2XFSWNN4LAUCJ5...   \n",
       "\n",
       "                                              user_name  \\\n",
       "1279  Divya,Dr Nefario,Deekshith,Preeti,Prasanth R,P...   \n",
       "\n",
       "                                              review_id  \\\n",
       "1279  R2KKTKM4M9RDVJ,R1O692MZOBTE79,R2WRSEWL56SOS4,R...   \n",
       "\n",
       "                                           review_title  \\\n",
       "1279  Decent product,doesn't pick up sand,Ok ok,Must...   \n",
       "\n",
       "                                         review_content  \\\n",
       "1279  Does the job well,doesn't work on sand. though...   \n",
       "\n",
       "                                               img_link  \\\n",
       "1279  https://m.media-amazon.com/images/W/WEBP_40237...   \n",
       "\n",
       "                                           product_link  \n",
       "1279  https://www.amazon.in/Eureka-Forbes-Vacuum-Cle...  "
      ]
     },
     "execution_count": 10,
     "metadata": {},
     "output_type": "execute_result"
    }
   ],
   "source": [
    "#check the row in which rating colun contain unknown value\n",
    "amazon.query(\"rating =='|' \")"
   ]
  },
  {
   "cell_type": "markdown",
   "id": "b32a67f4",
   "metadata": {},
   "source": [
    "From the official website Amazon.in we found the rating for this product_id  is 3.9."
   ]
  },
  {
   "cell_type": "code",
   "execution_count": 11,
   "id": "da172755",
   "metadata": {},
   "outputs": [
    {
     "name": "stderr",
     "output_type": "stream",
     "text": [
      "C:\\Users\\moghees hashmi\\AppData\\Local\\Temp\\ipykernel_10148\\3722698483.py:2: FutureWarning: The default value of regex will change from True to False in a future version. In addition, single character regular expressions will *not* be treated as literal strings when regex=True.\n",
      "  amazon['rating'] = amazon['rating'].str.replace('|', '3.9').astype('float64')\n"
     ]
    }
   ],
   "source": [
    "#Replace '|' with '3.9' and change daatype of the rating column\n",
    "amazon['rating'] = amazon['rating'].str.replace('|', '3.9').astype('float64')"
   ]
  },
  {
   "cell_type": "code",
   "execution_count": 12,
   "id": "8f926eec",
   "metadata": {},
   "outputs": [],
   "source": [
    "#change datatype of column \"rating_count\"\n",
    "amazon['rating_count'] = amazon['rating_count'].str.replace(',', '').astype('float64')"
   ]
  },
  {
   "cell_type": "code",
   "execution_count": 13,
   "id": "0520e0df",
   "metadata": {},
   "outputs": [
    {
     "name": "stdout",
     "output_type": "stream",
     "text": [
      "<class 'pandas.core.frame.DataFrame'>\n",
      "RangeIndex: 1465 entries, 0 to 1464\n",
      "Data columns (total 16 columns):\n",
      " #   Column               Non-Null Count  Dtype  \n",
      "---  ------               --------------  -----  \n",
      " 0   product_id           1465 non-null   object \n",
      " 1   product_name         1465 non-null   object \n",
      " 2   category             1465 non-null   object \n",
      " 3   discounted_price     1465 non-null   float64\n",
      " 4   actual_price         1465 non-null   float64\n",
      " 5   discount_percentage  1465 non-null   float64\n",
      " 6   rating               1465 non-null   float64\n",
      " 7   rating_count         1463 non-null   float64\n",
      " 8   about_product        1465 non-null   object \n",
      " 9   user_id              1465 non-null   object \n",
      " 10  user_name            1465 non-null   object \n",
      " 11  review_id            1465 non-null   object \n",
      " 12  review_title         1465 non-null   object \n",
      " 13  review_content       1465 non-null   object \n",
      " 14  img_link             1465 non-null   object \n",
      " 15  product_link         1465 non-null   object \n",
      "dtypes: float64(5), object(11)\n",
      "memory usage: 183.3+ KB\n"
     ]
    }
   ],
   "source": [
    "amazon.info()"
   ]
  },
  {
   "cell_type": "markdown",
   "id": "bf1921e4",
   "metadata": {},
   "source": [
    "# Descriptive Statistics"
   ]
  },
  {
   "cell_type": "markdown",
   "id": "0f74b5e9",
   "metadata": {},
   "source": [
    "Descriptive statistics summarize and describe the main features of a dataset, including measures of central tendency (mean, median) and variability (standard deviation, range) to provide a simple overview."
   ]
  },
  {
   "cell_type": "code",
   "execution_count": 14,
   "id": "b496a9d4",
   "metadata": {},
   "outputs": [
    {
     "data": {
      "text/html": [
       "<div>\n",
       "<style scoped>\n",
       "    .dataframe tbody tr th:only-of-type {\n",
       "        vertical-align: middle;\n",
       "    }\n",
       "\n",
       "    .dataframe tbody tr th {\n",
       "        vertical-align: top;\n",
       "    }\n",
       "\n",
       "    .dataframe thead th {\n",
       "        text-align: right;\n",
       "    }\n",
       "</style>\n",
       "<table border=\"1\" class=\"dataframe\">\n",
       "  <thead>\n",
       "    <tr style=\"text-align: right;\">\n",
       "      <th></th>\n",
       "      <th>discounted_price</th>\n",
       "      <th>actual_price</th>\n",
       "      <th>discount_percentage</th>\n",
       "      <th>rating</th>\n",
       "      <th>rating_count</th>\n",
       "    </tr>\n",
       "  </thead>\n",
       "  <tbody>\n",
       "    <tr>\n",
       "      <th>count</th>\n",
       "      <td>1465.000000</td>\n",
       "      <td>1465.000000</td>\n",
       "      <td>1465.000000</td>\n",
       "      <td>1465.000000</td>\n",
       "      <td>1463.000000</td>\n",
       "    </tr>\n",
       "    <tr>\n",
       "      <th>mean</th>\n",
       "      <td>3125.310874</td>\n",
       "      <td>5444.990635</td>\n",
       "      <td>0.476915</td>\n",
       "      <td>4.096451</td>\n",
       "      <td>18295.541353</td>\n",
       "    </tr>\n",
       "    <tr>\n",
       "      <th>std</th>\n",
       "      <td>6944.304394</td>\n",
       "      <td>10874.826864</td>\n",
       "      <td>0.216359</td>\n",
       "      <td>0.291620</td>\n",
       "      <td>42753.864952</td>\n",
       "    </tr>\n",
       "    <tr>\n",
       "      <th>min</th>\n",
       "      <td>39.000000</td>\n",
       "      <td>39.000000</td>\n",
       "      <td>0.000000</td>\n",
       "      <td>2.000000</td>\n",
       "      <td>2.000000</td>\n",
       "    </tr>\n",
       "    <tr>\n",
       "      <th>25%</th>\n",
       "      <td>325.000000</td>\n",
       "      <td>800.000000</td>\n",
       "      <td>0.320000</td>\n",
       "      <td>4.000000</td>\n",
       "      <td>1186.000000</td>\n",
       "    </tr>\n",
       "    <tr>\n",
       "      <th>50%</th>\n",
       "      <td>799.000000</td>\n",
       "      <td>1650.000000</td>\n",
       "      <td>0.500000</td>\n",
       "      <td>4.100000</td>\n",
       "      <td>5179.000000</td>\n",
       "    </tr>\n",
       "    <tr>\n",
       "      <th>75%</th>\n",
       "      <td>1999.000000</td>\n",
       "      <td>4295.000000</td>\n",
       "      <td>0.630000</td>\n",
       "      <td>4.300000</td>\n",
       "      <td>17336.500000</td>\n",
       "    </tr>\n",
       "    <tr>\n",
       "      <th>max</th>\n",
       "      <td>77990.000000</td>\n",
       "      <td>139900.000000</td>\n",
       "      <td>0.940000</td>\n",
       "      <td>5.000000</td>\n",
       "      <td>426973.000000</td>\n",
       "    </tr>\n",
       "  </tbody>\n",
       "</table>\n",
       "</div>"
      ],
      "text/plain": [
       "       discounted_price   actual_price  discount_percentage       rating  \\\n",
       "count       1465.000000    1465.000000          1465.000000  1465.000000   \n",
       "mean        3125.310874    5444.990635             0.476915     4.096451   \n",
       "std         6944.304394   10874.826864             0.216359     0.291620   \n",
       "min           39.000000      39.000000             0.000000     2.000000   \n",
       "25%          325.000000     800.000000             0.320000     4.000000   \n",
       "50%          799.000000    1650.000000             0.500000     4.100000   \n",
       "75%         1999.000000    4295.000000             0.630000     4.300000   \n",
       "max        77990.000000  139900.000000             0.940000     5.000000   \n",
       "\n",
       "        rating_count  \n",
       "count    1463.000000  \n",
       "mean    18295.541353  \n",
       "std     42753.864952  \n",
       "min         2.000000  \n",
       "25%      1186.000000  \n",
       "50%      5179.000000  \n",
       "75%     17336.500000  \n",
       "max    426973.000000  "
      ]
     },
     "execution_count": 14,
     "metadata": {},
     "output_type": "execute_result"
    }
   ],
   "source": [
    "amazon.describe()"
   ]
  },
  {
   "cell_type": "markdown",
   "id": "33f84646",
   "metadata": {},
   "source": [
    "# Quick Recap 2"
   ]
  },
  {
   "cell_type": "markdown",
   "id": "8f38842e",
   "metadata": {},
   "source": [
    "* All columns data type was object So, I converted some column data type to float.\n",
    "* There are 5 numeric as per Python coding or descriptive statistics from Python describe function"
   ]
  },
  {
   "cell_type": "markdown",
   "id": "96a98fda",
   "metadata": {},
   "source": [
    "# Dealing with missing values"
   ]
  },
  {
   "cell_type": "markdown",
   "id": "8692ceb6",
   "metadata": {},
   "source": [
    "Dealing with the missing values is one of the most important part of the data wrangling process, we must deal with the missing values in order to get the correct insights from the data."
   ]
  },
  {
   "cell_type": "markdown",
   "id": "5d4bd4b6",
   "metadata": {},
   "source": [
    "## Missing values"
   ]
  },
  {
   "cell_type": "code",
   "execution_count": 15,
   "id": "8b9b1802",
   "metadata": {},
   "outputs": [
    {
     "data": {
      "text/plain": [
       "rating_count           2\n",
       "product_id             0\n",
       "product_name           0\n",
       "category               0\n",
       "discounted_price       0\n",
       "actual_price           0\n",
       "discount_percentage    0\n",
       "rating                 0\n",
       "about_product          0\n",
       "user_id                0\n",
       "user_name              0\n",
       "review_id              0\n",
       "review_title           0\n",
       "review_content         0\n",
       "img_link               0\n",
       "product_link           0\n",
       "dtype: int64"
      ]
     },
     "execution_count": 15,
     "metadata": {},
     "output_type": "execute_result"
    }
   ],
   "source": [
    "amazon.isnull().sum().sort_values(ascending = False)"
   ]
  },
  {
   "cell_type": "code",
   "execution_count": 16,
   "id": "9a244462",
   "metadata": {},
   "outputs": [
    {
     "data": {
      "text/plain": [
       "rating_count           0.14\n",
       "product_id             0.00\n",
       "product_name           0.00\n",
       "category               0.00\n",
       "discounted_price       0.00\n",
       "actual_price           0.00\n",
       "discount_percentage    0.00\n",
       "rating                 0.00\n",
       "about_product          0.00\n",
       "user_id                0.00\n",
       "user_name              0.00\n",
       "review_id              0.00\n",
       "review_title           0.00\n",
       "review_content         0.00\n",
       "img_link               0.00\n",
       "product_link           0.00\n",
       "dtype: float64"
      ]
     },
     "execution_count": 16,
     "metadata": {},
     "output_type": "execute_result"
    }
   ],
   "source": [
    "# Find missing values percentage in the data\n",
    "round(amazon.isnull().sum() / len(amazon) * 100, 2).sort_values(ascending=False)"
   ]
  },
  {
   "cell_type": "code",
   "execution_count": 17,
   "id": "26b4397e",
   "metadata": {},
   "outputs": [
    {
     "data": {
      "text/plain": [
       "2"
      ]
     },
     "execution_count": 17,
     "metadata": {},
     "output_type": "execute_result"
    }
   ],
   "source": [
    "# Find total number of missing values\n",
    "amazon.isnull().sum().sum()"
   ]
  },
  {
   "cell_type": "markdown",
   "id": "d505c365",
   "metadata": {},
   "source": [
    "# Let plot a missing value"
   ]
  },
  {
   "cell_type": "code",
   "execution_count": 18,
   "id": "608d5ff9",
   "metadata": {},
   "outputs": [
    {
     "data": {
      "text/plain": [
       "<Axes: >"
      ]
     },
     "execution_count": 18,
     "metadata": {},
     "output_type": "execute_result"
    },
    {
     "data": {
      "image/png": "[encoded data removed]",
      "text/plain": [
       "<Figure size 2200x1000 with 1 Axes>"
      ]
     },
     "metadata": {},
     "output_type": "display_data"
    }
   ],
   "source": [
    "# make a figure size\n",
    "plt.figure(figsize=(22, 10))\n",
    "# plot the null values in each column\n",
    "sns.heatmap(amazon.isnull(), yticklabels=False, cbar=False, cmap='plasma') "
   ]
  },
  {
   "cell_type": "markdown",
   "id": "c9ef5da5",
   "metadata": {},
   "source": [
    "Fig-1 Missing value heat map"
   ]
  },
  {
   "cell_type": "markdown",
   "id": "37eb9f45",
   "metadata": {},
   "source": [
    "##                       Plot missing value by percentage"
   ]
  },
  {
   "cell_type": "code",
   "execution_count": 19,
   "id": "610477fe",
   "metadata": {},
   "outputs": [
    {
     "data": {
      "text/plain": [
       "Text(0.5, 1.0, 'Percentage of Missing Values in each Column')"
      ]
     },
     "execution_count": 19,
     "metadata": {},
     "output_type": "execute_result"
    },
    {
     "data": {
      "image/png": "[encoded data removed]",
      "text/plain": [
       "<Figure size 1200x400 with 1 Axes>"
      ]
     },
     "metadata": {},
     "output_type": "display_data"
    }
   ],
   "source": [
    "# make figure size\n",
    "plt.figure(figsize=(12, 4))\n",
    "# plot the null values by their percentage in each column\n",
    "missing_percentage = amazon.isnull().sum()/len(amazon)*100\n",
    "missing_percentage.plot(kind='bar')\n",
    "# add the labels\n",
    "plt.xlabel('Columns')\n",
    "plt.ylabel('Percentage')\n",
    "plt.title('Percentage of Missing Values in each Column')"
   ]
  },
  {
   "cell_type": "markdown",
   "id": "82b3c536",
   "metadata": {},
   "source": [
    "Fig-2 Percentage of null value "
   ]
  },
  {
   "cell_type": "markdown",
   "id": "f4ff5df8",
   "metadata": {},
   "source": [
    "# View rows which contain null value in rating column"
   ]
  },
  {
   "cell_type": "code",
   "execution_count": 20,
   "id": "58fcb690",
   "metadata": {},
   "outputs": [
    {
     "data": {
      "text/html": [
       "<div>\n",
       "<style scoped>\n",
       "    .dataframe tbody tr th:only-of-type {\n",
       "        vertical-align: middle;\n",
       "    }\n",
       "\n",
       "    .dataframe tbody tr th {\n",
       "        vertical-align: top;\n",
       "    }\n",
       "\n",
       "    .dataframe thead th {\n",
       "        text-align: right;\n",
       "    }\n",
       "</style>\n",
       "<table border=\"1\" class=\"dataframe\">\n",
       "  <thead>\n",
       "    <tr style=\"text-align: right;\">\n",
       "      <th></th>\n",
       "      <th>product_id</th>\n",
       "      <th>product_name</th>\n",
       "      <th>category</th>\n",
       "      <th>discounted_price</th>\n",
       "      <th>actual_price</th>\n",
       "      <th>discount_percentage</th>\n",
       "      <th>rating</th>\n",
       "      <th>rating_count</th>\n",
       "      <th>about_product</th>\n",
       "      <th>user_id</th>\n",
       "      <th>user_name</th>\n",
       "      <th>review_id</th>\n",
       "      <th>review_title</th>\n",
       "      <th>review_content</th>\n",
       "      <th>img_link</th>\n",
       "      <th>product_link</th>\n",
       "    </tr>\n",
       "  </thead>\n",
       "  <tbody>\n",
       "    <tr>\n",
       "      <th>282</th>\n",
       "      <td>B0B94JPY2N</td>\n",
       "      <td>Amazon Brand - Solimo 65W Fast Charging Braide...</td>\n",
       "      <td>Computers&amp;Accessories|Accessories&amp;Peripherals|...</td>\n",
       "      <td>199.0</td>\n",
       "      <td>999.0</td>\n",
       "      <td>0.80</td>\n",
       "      <td>3.0</td>\n",
       "      <td>NaN</td>\n",
       "      <td>USB C to C Cable: This cable has type C connec...</td>\n",
       "      <td>AE7CFHY23VAJT2FI4NZKKP6GS2UQ</td>\n",
       "      <td>Pranav</td>\n",
       "      <td>RUB7U91HVZ30</td>\n",
       "      <td>The cable works but is not 65W as advertised</td>\n",
       "      <td>I have a pd supported car charger and I bought...</td>\n",
       "      <td>https://m.media-amazon.com/images/W/WEBP_40237...</td>\n",
       "      <td>https://www.amazon.in/Amazon-Brand-Charging-Su...</td>\n",
       "    </tr>\n",
       "    <tr>\n",
       "      <th>324</th>\n",
       "      <td>B0BQRJ3C47</td>\n",
       "      <td>REDTECH USB-C to Lightning Cable 3.3FT, [Apple...</td>\n",
       "      <td>Computers&amp;Accessories|Accessories&amp;Peripherals|...</td>\n",
       "      <td>249.0</td>\n",
       "      <td>999.0</td>\n",
       "      <td>0.75</td>\n",
       "      <td>5.0</td>\n",
       "      <td>NaN</td>\n",
       "      <td>💎[The Fastest Charge] - This iPhone USB C cabl...</td>\n",
       "      <td>AGJC5O5H5BBXWUV7WRIEIOOR3TVQ</td>\n",
       "      <td>Abdul Gafur</td>\n",
       "      <td>RQXD5SAMMPC6L</td>\n",
       "      <td>Awesome Product</td>\n",
       "      <td>Quick delivery.Awesome ProductPacking was good...</td>\n",
       "      <td>https://m.media-amazon.com/images/I/31-q0xhaTA...</td>\n",
       "      <td>https://www.amazon.in/REDTECH-Lightning-Certif...</td>\n",
       "    </tr>\n",
       "  </tbody>\n",
       "</table>\n",
       "</div>"
      ],
      "text/plain": [
       "     product_id                                       product_name  \\\n",
       "282  B0B94JPY2N  Amazon Brand - Solimo 65W Fast Charging Braide...   \n",
       "324  B0BQRJ3C47  REDTECH USB-C to Lightning Cable 3.3FT, [Apple...   \n",
       "\n",
       "                                              category  discounted_price  \\\n",
       "282  Computers&Accessories|Accessories&Peripherals|...             199.0   \n",
       "324  Computers&Accessories|Accessories&Peripherals|...             249.0   \n",
       "\n",
       "     actual_price  discount_percentage  rating  rating_count  \\\n",
       "282         999.0                 0.80     3.0           NaN   \n",
       "324         999.0                 0.75     5.0           NaN   \n",
       "\n",
       "                                         about_product  \\\n",
       "282  USB C to C Cable: This cable has type C connec...   \n",
       "324  💎[The Fastest Charge] - This iPhone USB C cabl...   \n",
       "\n",
       "                          user_id    user_name      review_id  \\\n",
       "282  AE7CFHY23VAJT2FI4NZKKP6GS2UQ       Pranav   RUB7U91HVZ30   \n",
       "324  AGJC5O5H5BBXWUV7WRIEIOOR3TVQ  Abdul Gafur  RQXD5SAMMPC6L   \n",
       "\n",
       "                                     review_title  \\\n",
       "282  The cable works but is not 65W as advertised   \n",
       "324                               Awesome Product   \n",
       "\n",
       "                                        review_content  \\\n",
       "282  I have a pd supported car charger and I bought...   \n",
       "324  Quick delivery.Awesome ProductPacking was good...   \n",
       "\n",
       "                                              img_link  \\\n",
       "282  https://m.media-amazon.com/images/W/WEBP_40237...   \n",
       "324  https://m.media-amazon.com/images/I/31-q0xhaTA...   \n",
       "\n",
       "                                          product_link  \n",
       "282  https://www.amazon.in/Amazon-Brand-Charging-Su...  \n",
       "324  https://www.amazon.in/REDTECH-Lightning-Certif...  "
      ]
     },
     "execution_count": 20,
     "metadata": {},
     "output_type": "execute_result"
    }
   ],
   "source": [
    "amazon[amazon['rating_count'].isnull()].head(5)"
   ]
  },
  {
   "cell_type": "code",
   "execution_count": 21,
   "id": "cb0b3f6d",
   "metadata": {},
   "outputs": [],
   "source": [
    "#fill missing value with median\n",
    "amazon['rating_count'] = amazon.rating_count.fillna(value=amazon['rating_count'].median())"
   ]
  },
  {
   "cell_type": "code",
   "execution_count": 22,
   "id": "54299302",
   "metadata": {},
   "outputs": [
    {
     "data": {
      "text/plain": [
       "product_id             0\n",
       "product_name           0\n",
       "category               0\n",
       "discounted_price       0\n",
       "actual_price           0\n",
       "discount_percentage    0\n",
       "rating                 0\n",
       "rating_count           0\n",
       "about_product          0\n",
       "user_id                0\n",
       "user_name              0\n",
       "review_id              0\n",
       "review_title           0\n",
       "review_content         0\n",
       "img_link               0\n",
       "product_link           0\n",
       "dtype: int64"
      ]
     },
     "execution_count": 22,
     "metadata": {},
     "output_type": "execute_result"
    }
   ],
   "source": [
    "#confirm missing value treatment\n",
    "amazon.isnull().sum()"
   ]
  },
  {
   "cell_type": "markdown",
   "id": "0642bca8",
   "metadata": {},
   "source": [
    "##   Mark 1 : we cleaned Null values from dataset"
   ]
  },
  {
   "cell_type": "markdown",
   "id": "05c3c047",
   "metadata": {},
   "source": [
    "# Find duplicates"
   ]
  },
  {
   "cell_type": "markdown",
   "id": "92609c51",
   "metadata": {},
   "source": [
    "Removing duplicates is one of the most important part of the data wrangling process, we must remove the duplicates in order to get the correct insights from the data.If you do not remove duplicates from a dataset, it can lead to incorrect insights and analysis.\n",
    "\n",
    "Duplicates can skew statistical measures such as mean, median, and standard deviation, and can also lead to over-representation of certain data points.It is important to remove duplicates to ensure the accuracy and reliability of your data analysis."
   ]
  },
  {
   "cell_type": "code",
   "execution_count": 23,
   "id": "bda518bb",
   "metadata": {},
   "outputs": [
    {
     "data": {
      "text/plain": [
       "False"
      ]
     },
     "execution_count": 23,
     "metadata": {},
     "output_type": "execute_result"
    }
   ],
   "source": [
    "#Looking for duplicates\n",
    "amazon.duplicated().any()"
   ]
  },
  {
   "cell_type": "code",
   "execution_count": 24,
   "id": "b74b3197",
   "metadata": {},
   "outputs": [
    {
     "data": {
      "text/plain": [
       "Index(['product_id', 'product_name', 'category', 'discounted_price',\n",
       "       'actual_price', 'discount_percentage', 'rating', 'rating_count',\n",
       "       'about_product', 'user_id', 'user_name', 'review_id', 'review_title',\n",
       "       'review_content', 'img_link', 'product_link'],\n",
       "      dtype='object')"
      ]
     },
     "execution_count": 24,
     "metadata": {},
     "output_type": "execute_result"
    }
   ],
   "source": [
    "amazon.columns"
   ]
  },
  {
   "cell_type": "code",
   "execution_count": 25,
   "id": "a9792e00",
   "metadata": {},
   "outputs": [
    {
     "data": {
      "text/plain": [
       "False"
      ]
     },
     "execution_count": 25,
     "metadata": {},
     "output_type": "execute_result"
    }
   ],
   "source": [
    "duplicates = amazon.duplicated(subset=['product_id', 'product_name', 'category', 'discounted_price','actual_price', \n",
    "                                       'discount_percentage', 'rating', 'rating_count','about_product', 'user_id', \n",
    "                                       'user_name', 'review_id', 'review_title','review_content', 'img_link',\n",
    "                                       'product_link']).any()\n",
    "duplicates"
   ]
  },
  {
   "cell_type": "markdown",
   "id": "05809899",
   "metadata": {},
   "source": [
    "## Mark 2 : Duplicates not found"
   ]
  },
  {
   "cell_type": "markdown",
   "id": "dd2ab4b0",
   "metadata": {},
   "source": [
    "# Data Visulization"
   ]
  },
  {
   "cell_type": "code",
   "execution_count": 28,
   "id": "b77405ea",
   "metadata": {},
   "outputs": [
    {
     "data": {
      "image/png": "[encoded data removed]",
      "text/plain": [
       "<Figure size 640x480 with 1 Axes>"
      ]
     },
     "metadata": {},
     "output_type": "display_data"
    }
   ],
   "source": [
    "#Plot actual_price Vs rating\n",
    "plt.scatter(amazon['actual_price'],amazon['rating'])\n",
    "plt.title('Actual Price vs Rating')\n",
    "plt.xlabel('Actual Price')\n",
    "plt.ylabel('Rating')\n",
    "plt.show()"
   ]
  },
  {
   "cell_type": "code",
   "execution_count": 45,
   "id": "d3630070",
   "metadata": {},
   "outputs": [
    {
     "data": {
      "image/png": "[encoded data removed]",
      "text/plain": [
       "<Figure size 640x480 with 1 Axes>"
      ]
     },
     "metadata": {},
     "output_type": "display_data"
    }
   ],
   "source": [
    "#Plot distribution of actual price\n",
    "plt.hist(amazon['actual_price'],color = 'red')\n",
    "plt.title('Distribution of actual price')\n",
    "plt.xlabel('Actual Price')\n",
    "plt.ylabel('Frequency')\n",
    "plt.show()"
   ]
  },
  {
   "cell_type": "code",
   "execution_count": 44,
   "id": "f1cca49e",
   "metadata": {},
   "outputs": [
    {
     "data": {
      "text/plain": [
       "211"
      ]
     },
     "execution_count": 44,
     "metadata": {},
     "output_type": "execute_result"
    }
   ],
   "source": [
    "amazon['category'].nunique()"
   ]
  },
  {
   "cell_type": "markdown",
   "id": "455bbee1",
   "metadata": {},
   "source": [
    "## Import Scikit Learn for LabelEncoder"
   ]
  },
  {
   "cell_type": "code",
   "execution_count": 46,
   "id": "79e74f43",
   "metadata": {},
   "outputs": [],
   "source": [
    "from sklearn.preprocessing import LabelEncoder\n",
    "# label encode categorical variables\n",
    "\n",
    "le_product_id = LabelEncoder()\n",
    "le_category = LabelEncoder()\n",
    "le_review_id = LabelEncoder()\n",
    "le_review_content = LabelEncoder()\n",
    "le_product_name = LabelEncoder()\n",
    "le_user_name = LabelEncoder()\n",
    "le_about_product = LabelEncoder()\n",
    "le_user_id = LabelEncoder()\n",
    "le_review_title = LabelEncoder()\n",
    "le_img_link = LabelEncoder()\n",
    "le_product_link = LabelEncoder()\n",
    "\n",
    "\n",
    "amazon['product_id'] = le_product_id.fit_transform(amazon['product_id'])\n",
    "amazon['category'] = le_category.fit_transform(amazon['category'])\n",
    "amazon['review_id'] = le_review_id.fit_transform(amazon['review_id'])\n",
    "amazon['review_content'] = le_review_content.fit_transform(amazon['review_content'])\n",
    "amazon['product_name'] = le_product_name.fit_transform(amazon['product_name'])\n",
    "amazon['user_name'] = le_user_name.fit_transform(amazon['user_name'])\n",
    "amazon['about_product'] = le_about_product.fit_transform(amazon['about_product'])\n",
    "amazon['user_id'] = le_user_id.fit_transform(amazon['user_id'])\n",
    "amazon['review_title'] = le_review_title.fit_transform(amazon['review_title'])\n",
    "amazon['img_link'] = le_img_link.fit_transform(amazon['img_link'])\n",
    "amazon['product_link'] = le_product_link.fit_transform(amazon['product_link'])"
   ]
  },
  {
   "cell_type": "code",
   "execution_count": 51,
   "id": "2ae83d8d",
   "metadata": {},
   "outputs": [
    {
     "data": {
      "image/png": "[encoded data removed]",
      "text/plain": [
       "<Figure size 640x480 with 2 Axes>"
      ]
     },
     "metadata": {},
     "output_type": "display_data"
    }
   ],
   "source": [
    "# Plot correlations between variables\n",
    "correlation_matrix = amazon.corr()\n",
    "sns.heatmap(correlation_matrix, annot=False)\n",
    "plt.show()"
   ]
  },
  {
   "cell_type": "markdown",
   "id": "3128b15e",
   "metadata": {},
   "source": [
    "## Correlation Analysis"
   ]
  },
  {
   "cell_type": "code",
   "execution_count": 53,
   "id": "7183be39",
   "metadata": {},
   "outputs": [
    {
     "name": "stdout",
     "output_type": "stream",
     "text": [
      "                     product_id  product_name  category  discounted_price  \\\n",
      "product_id             1.000000      0.084089 -0.012565          0.206448   \n",
      "product_name           0.084089      1.000000 -0.103778          0.090665   \n",
      "category              -0.012565     -0.103778  1.000000          0.119365   \n",
      "discounted_price       0.206448      0.090665  0.119365          1.000000   \n",
      "actual_price           0.246733      0.078567  0.122451          0.961915   \n",
      "discount_percentage    0.289514      0.101913 -0.314465         -0.242412   \n",
      "rating                -0.149105     -0.035592 -0.109424          0.120386   \n",
      "rating_count          -0.175530      0.092450 -0.098421         -0.027081   \n",
      "about_product          0.041404      0.158263 -0.038753          0.052618   \n",
      "user_id                0.065688     -0.024093  0.012707          0.041731   \n",
      "user_name              0.016145      0.024598  0.037822         -0.063069   \n",
      "review_id             -0.024282      0.013492  0.014015         -0.049757   \n",
      "review_title           0.007650     -0.060594  0.004712         -0.020981   \n",
      "review_content        -0.046273     -0.018505 -0.012107         -0.015904   \n",
      "img_link              -0.078803     -0.060858  0.038850          0.018917   \n",
      "product_link           0.096205      0.823725 -0.067710          0.110186   \n",
      "\n",
      "                     actual_price  discount_percentage    rating  \\\n",
      "product_id               0.246733             0.289514 -0.149105   \n",
      "product_name             0.078567             0.101913 -0.035592   \n",
      "category                 0.122451            -0.314465 -0.109424   \n",
      "discounted_price         0.961915            -0.242412  0.120386   \n",
      "actual_price             1.000000            -0.118098  0.121744   \n",
      "discount_percentage     -0.118098             1.000000 -0.154563   \n",
      "rating                   0.121744            -0.154563  1.000000   \n",
      "rating_count            -0.035959             0.011097  0.101700   \n",
      "about_product            0.048529             0.060846 -0.036056   \n",
      "user_id                  0.041501             0.008288 -0.014528   \n",
      "user_name               -0.049567             0.064618 -0.012704   \n",
      "review_id               -0.045640             0.022442 -0.134071   \n",
      "review_title             0.004521             0.076043 -0.075715   \n",
      "review_content          -0.013948             0.005993 -0.044567   \n",
      "img_link                 0.020080            -0.011701  0.003993   \n",
      "product_link             0.099286             0.074548 -0.044125   \n",
      "\n",
      "                     rating_count  about_product   user_id  user_name  \\\n",
      "product_id              -0.175530       0.041404  0.065688   0.016145   \n",
      "product_name             0.092450       0.158263 -0.024093   0.024598   \n",
      "category                -0.098421      -0.038753  0.012707   0.037822   \n",
      "discounted_price        -0.027081       0.052618  0.041731  -0.063069   \n",
      "actual_price            -0.035959       0.048529  0.041501  -0.049567   \n",
      "discount_percentage      0.011097       0.060846  0.008288   0.064618   \n",
      "rating                   0.101700      -0.036056 -0.014528  -0.012704   \n",
      "rating_count             1.000000      -0.030821 -0.094512   0.059160   \n",
      "about_product           -0.030821       1.000000 -0.001946  -0.004547   \n",
      "user_id                 -0.094512      -0.001946  1.000000  -0.051368   \n",
      "user_name                0.059160      -0.004547 -0.051368   1.000000   \n",
      "review_id               -0.043089       0.019690  0.001685  -0.009057   \n",
      "review_title            -0.084239      -0.015824  0.039035  -0.038880   \n",
      "review_content          -0.025268      -0.024567  0.031295   0.002433   \n",
      "img_link                -0.100781       0.030874 -0.014114  -0.038779   \n",
      "product_link             0.003665       0.147208 -0.008662   0.026996   \n",
      "\n",
      "                     review_id  review_title  review_content  img_link  \\\n",
      "product_id           -0.024282      0.007650       -0.046273 -0.078803   \n",
      "product_name          0.013492     -0.060594       -0.018505 -0.060858   \n",
      "category              0.014015      0.004712       -0.012107  0.038850   \n",
      "discounted_price     -0.049757     -0.020981       -0.015904  0.018917   \n",
      "actual_price         -0.045640      0.004521       -0.013948  0.020080   \n",
      "discount_percentage   0.022442      0.076043        0.005993 -0.011701   \n",
      "rating               -0.134071     -0.075715       -0.044567  0.003993   \n",
      "rating_count         -0.043089     -0.084239       -0.025268 -0.100781   \n",
      "about_product         0.019690     -0.015824       -0.024567  0.030874   \n",
      "user_id               0.001685      0.039035        0.031295 -0.014114   \n",
      "user_name            -0.009057     -0.038880        0.002433 -0.038779   \n",
      "review_id             1.000000     -0.034569        0.016665  0.005422   \n",
      "review_title         -0.034569      1.000000        0.201131 -0.012056   \n",
      "review_content        0.016665      0.201131        1.000000 -0.020283   \n",
      "img_link              0.005422     -0.012056       -0.020283  1.000000   \n",
      "product_link          0.014423     -0.006080       -0.038574 -0.043935   \n",
      "\n",
      "                     product_link  \n",
      "product_id               0.096205  \n",
      "product_name             0.823725  \n",
      "category                -0.067710  \n",
      "discounted_price         0.110186  \n",
      "actual_price             0.099286  \n",
      "discount_percentage      0.074548  \n",
      "rating                  -0.044125  \n",
      "rating_count             0.003665  \n",
      "about_product            0.147208  \n",
      "user_id                 -0.008662  \n",
      "user_name                0.026996  \n",
      "review_id                0.014423  \n",
      "review_title            -0.006080  \n",
      "review_content          -0.038574  \n",
      "img_link                -0.043935  \n",
      "product_link             1.000000  \n"
     ]
    },
    {
     "data": {
      "image/png": "[encoded data removed]",
      "text/plain": [
       "<Figure size 640x480 with 2 Axes>"
      ]
     },
     "metadata": {},
     "output_type": "display_data"
    },
    {
     "name": "stdout",
     "output_type": "stream",
     "text": [
      "                     product_id  product_name  category  discounted_price  \\\n",
      "product_id             1.000000      0.083112 -0.013553          0.146237   \n",
      "product_name           0.083112      1.000000 -0.106193          0.056597   \n",
      "category              -0.013553     -0.106193  1.000000          0.360733   \n",
      "discounted_price       0.146237      0.056597  0.360733          1.000000   \n",
      "actual_price           0.269064      0.105719  0.277291          0.932787   \n",
      "discount_percentage    0.271879      0.106467 -0.322090         -0.372991   \n",
      "rating                -0.144268     -0.061395 -0.101758          0.079412   \n",
      "rating_count          -0.406559      0.128565 -0.171893          0.122296   \n",
      "about_product          0.041118      0.157675 -0.048319         -0.056144   \n",
      "user_id                0.065228     -0.023810  0.015389          0.079048   \n",
      "user_name              0.016859      0.024479  0.038735         -0.018599   \n",
      "review_id             -0.024644      0.015269  0.016119         -0.048420   \n",
      "review_title           0.007415     -0.060779  0.009407         -0.018665   \n",
      "review_content        -0.045763     -0.017671 -0.013519         -0.053281   \n",
      "img_link              -0.078258     -0.060212  0.042158         -0.021097   \n",
      "product_link           0.095734      0.823655 -0.065789          0.071049   \n",
      "\n",
      "                     actual_price  discount_percentage    rating  \\\n",
      "product_id               0.269064             0.271879 -0.144268   \n",
      "product_name             0.105719             0.106467 -0.061395   \n",
      "category                 0.277291            -0.322090 -0.101758   \n",
      "discounted_price         0.932787            -0.372991  0.079412   \n",
      "actual_price             1.000000            -0.066363  0.033066   \n",
      "discount_percentage     -0.066363             1.000000 -0.144815   \n",
      "rating                   0.033066            -0.144815  1.000000   \n",
      "rating_count             0.093400            -0.096580  0.180947   \n",
      "about_product           -0.029216             0.061906 -0.033470   \n",
      "user_id                  0.086375             0.005825 -0.000816   \n",
      "user_name               -0.001395             0.066214 -0.014171   \n",
      "review_id               -0.045914             0.012696 -0.130196   \n",
      "review_title             0.004687             0.075222 -0.067546   \n",
      "review_content          -0.058924             0.012542 -0.054206   \n",
      "img_link                -0.018511            -0.010185  0.019161   \n",
      "product_link             0.111965             0.074625 -0.063169   \n",
      "\n",
      "                     rating_count  about_product   user_id  user_name  \\\n",
      "product_id              -0.406559       0.041118  0.065228   0.016859   \n",
      "product_name             0.128565       0.157675 -0.023810   0.024479   \n",
      "category                -0.171893      -0.048319  0.015389   0.038735   \n",
      "discounted_price         0.122296      -0.056144  0.079048  -0.018599   \n",
      "actual_price             0.093400      -0.029216  0.086375  -0.001395   \n",
      "discount_percentage     -0.096580       0.061906  0.005825   0.066214   \n",
      "rating                   0.180947      -0.033470 -0.000816  -0.014171   \n",
      "rating_count             1.000000      -0.104660 -0.052821   0.021839   \n",
      "about_product           -0.104660       1.000000 -0.001770  -0.004390   \n",
      "user_id                 -0.052821      -0.001770  1.000000  -0.051860   \n",
      "user_name                0.021839      -0.004390 -0.051860   1.000000   \n",
      "review_id               -0.050121       0.020765  0.001674  -0.009772   \n",
      "review_title            -0.033234      -0.015792  0.038260  -0.038420   \n",
      "review_content          -0.024274      -0.025319  0.032042   0.002172   \n",
      "img_link                -0.074989       0.030514 -0.014201  -0.039575   \n",
      "product_link             0.062640       0.146951 -0.008345   0.026876   \n",
      "\n",
      "                     review_id  review_title  review_content  img_link  \\\n",
      "product_id           -0.024644      0.007415       -0.045763 -0.078258   \n",
      "product_name          0.015269     -0.060779       -0.017671 -0.060212   \n",
      "category              0.016119      0.009407       -0.013519  0.042158   \n",
      "discounted_price     -0.048420     -0.018665       -0.053281 -0.021097   \n",
      "actual_price         -0.045914      0.004687       -0.058924 -0.018511   \n",
      "discount_percentage   0.012696      0.075222        0.012542 -0.010185   \n",
      "rating               -0.130196     -0.067546       -0.054206  0.019161   \n",
      "rating_count         -0.050121     -0.033234       -0.024274 -0.074989   \n",
      "about_product         0.020765     -0.015792       -0.025319  0.030514   \n",
      "user_id               0.001674      0.038260        0.032042 -0.014201   \n",
      "user_name            -0.009772     -0.038420        0.002172 -0.039575   \n",
      "review_id             1.000000     -0.035109        0.017536  0.005354   \n",
      "review_title         -0.035109      1.000000        0.203353 -0.012142   \n",
      "review_content        0.017536      0.203353        1.000000 -0.020711   \n",
      "img_link              0.005354     -0.012142       -0.020711  1.000000   \n",
      "product_link          0.015516     -0.006416       -0.038634 -0.043347   \n",
      "\n",
      "                     product_link  \n",
      "product_id               0.095734  \n",
      "product_name             0.823655  \n",
      "category                -0.065789  \n",
      "discounted_price         0.071049  \n",
      "actual_price             0.111965  \n",
      "discount_percentage      0.074625  \n",
      "rating                  -0.063169  \n",
      "rating_count             0.062640  \n",
      "about_product            0.146951  \n",
      "user_id                 -0.008345  \n",
      "user_name                0.026876  \n",
      "review_id                0.015516  \n",
      "review_title            -0.006416  \n",
      "review_content          -0.038634  \n",
      "img_link                -0.043347  \n",
      "product_link             1.000000  \n"
     ]
    },
    {
     "data": {
      "image/png": "[encoded data removed]",
      "text/plain": [
       "<Figure size 640x480 with 2 Axes>"
      ]
     },
     "metadata": {},
     "output_type": "display_data"
    }
   ],
   "source": [
    "# Calculate Pearson correlation coefficients (default in Pandas)\n",
    "correlation_matrix = amazon.corr()\n",
    "\n",
    "# Print the correlation matrix\n",
    "print(correlation_matrix)\n",
    "\n",
    "# Create a heatmap to visualize the correlations\n",
    "sns.heatmap(correlation_matrix, annot=False, cmap=\"RdBu\")\n",
    "plt.title(\"Correlation Matrix (Pearson)\")\n",
    "plt.show()\n",
    "\n",
    "# Calculate Spearman correlation coefficients (for non-linear relationships)\n",
    "spearman_correlation_matrix = amazon.corr(method=\"spearman\")\n",
    "\n",
    "# Print the Spearman correlation matrix\n",
    "print(spearman_correlation_matrix)\n",
    "\n",
    "# Create a heatmap to visualize the Spearman correlations\n",
    "sns.heatmap(spearman_correlation_matrix, annot=False, cmap=\"RdBu\")\n",
    "plt.title(\"Correlation Matrix (Spearman)\")\n",
    "plt.show()"
   ]
  },
  {
   "cell_type": "code",
   "execution_count": 54,
   "id": "184fab46",
   "metadata": {},
   "outputs": [
    {
     "name": "stdout",
     "output_type": "stream",
     "text": [
      "0.12174449609998352\n"
     ]
    }
   ],
   "source": [
    "# Calculate correlation coefficient between product price and sales\n",
    "correlation_coefficient = np.corrcoef(amazon['actual_price'], amazon['rating'])[0, 1]\n",
    "\n",
    "# Print correlation coefficient\n",
    "print(correlation_coefficient)"
   ]
  },
  {
   "cell_type": "markdown",
   "id": "8383dc31",
   "metadata": {},
   "source": [
    "# Grouping and Aggregations"
   ]
  },
  {
   "cell_type": "code",
   "execution_count": 55,
   "id": "7018f5f4",
   "metadata": {},
   "outputs": [
    {
     "name": "stdout",
     "output_type": "stream",
     "text": [
      "category\n",
      "0      3.800000\n",
      "1      4.150000\n",
      "2      3.500000\n",
      "3      3.600000\n",
      "4      4.050000\n",
      "         ...   \n",
      "206    4.250000\n",
      "207    4.150000\n",
      "208    4.300000\n",
      "209    4.133333\n",
      "210    4.300000\n",
      "Name: rating, Length: 211, dtype: float64\n"
     ]
    }
   ],
   "source": [
    "# Calculate mean sales by product category\n",
    "grouped_amazon = amazon.groupby('category')['rating'].mean()\n",
    "\n",
    "# Print mean sales by product category\n",
    "print(grouped_amazon)"
   ]
  },
  {
   "cell_type": "markdown",
   "id": "4db64777",
   "metadata": {},
   "source": [
    "## Calculate summary statistics for groups"
   ]
  },
  {
   "cell_type": "code",
   "execution_count": 62,
   "id": "d6c1c147",
   "metadata": {},
   "outputs": [
    {
     "name": "stdout",
     "output_type": "stream",
     "text": [
      "------------------------------\n",
      "Mean rating by category\n",
      "------------------------------\n",
      "category\n",
      "0      3.800000\n",
      "1      4.150000\n",
      "2      3.500000\n",
      "3      3.600000\n",
      "4      4.050000\n",
      "         ...   \n",
      "206    4.250000\n",
      "207    4.150000\n",
      "208    4.300000\n",
      "209    4.133333\n",
      "210    4.300000\n",
      "Name: rating, Length: 211, dtype: float64\n",
      "---------------------------------\n",
      "Median rating by review_content\n",
      "---------------------------------\n",
      "review_content\n",
      "0       4.1\n",
      "1       3.9\n",
      "2       4.3\n",
      "3       4.3\n",
      "4       3.8\n",
      "       ... \n",
      "1207    4.0\n",
      "1208    4.3\n",
      "1209    4.3\n",
      "1210    4.5\n",
      "1211    4.3\n",
      "Name: rating, Length: 1212, dtype: float64\n",
      "---------------------------------------------------\n",
      "Standard deviation of actual_price by product_name\n",
      "---------------------------------------------------\n",
      "product_name\n",
      "0       NaN\n",
      "1       NaN\n",
      "2       NaN\n",
      "3       NaN\n",
      "4       NaN\n",
      "       ... \n",
      "1332    NaN\n",
      "1333    NaN\n",
      "1334    NaN\n",
      "1335    NaN\n",
      "1336    0.0\n",
      "Name: actual_price, Length: 1337, dtype: float64\n"
     ]
    }
   ],
   "source": [
    "\n",
    "# Mean rating by category\n",
    "print(\"------------------------------\")\n",
    "print('Mean rating by category')\n",
    "print('------------------------------')\n",
    "mean_sales_by_category = amazon.groupby('category')['rating'].mean()\n",
    "print(mean_sales_by_category)\n",
    "\n",
    "\n",
    "# Median rating by review_content\n",
    "print(\"---------------------------------\")\n",
    "print('Median rating by review_content')\n",
    "print('---------------------------------')\n",
    "median_sales_by_age = amazon.groupby('review_content')['rating'].median()\n",
    "print(median_sales_by_age)\n",
    "\n",
    "\n",
    "# Standard deviation of actual_price by product_name\n",
    "print(\"---------------------------------------------------\")\n",
    "print('Standard deviation of actual_price by product_name')\n",
    "print('---------------------------------------------------')\n",
    "std_price_by_brand = amazon.groupby('product_name')['actual_price'].std()\n",
    "print(std_price_by_brand)"
   ]
  },
  {
   "cell_type": "markdown",
   "id": "678afc4a",
   "metadata": {},
   "source": [
    "# Pivot Table"
   ]
  },
  {
   "cell_type": "code",
   "execution_count": 63,
   "id": "a76fcd8e",
   "metadata": {},
   "outputs": [
    {
     "name": "stdout",
     "output_type": "stream",
     "text": [
      "product_link  0     1     2     3     4     5     6     7     8     9     ...  \\\n",
      "category                                                                  ...   \n",
      "0              NaN   NaN   NaN   NaN   NaN   NaN   NaN   NaN   NaN   NaN  ...   \n",
      "1              NaN   NaN   NaN   NaN   NaN   NaN   NaN   NaN   NaN   NaN  ...   \n",
      "2              NaN   NaN   NaN   NaN   NaN   NaN   NaN   NaN   NaN   NaN  ...   \n",
      "3              NaN   NaN   NaN   NaN   NaN   NaN   NaN   NaN   NaN   NaN  ...   \n",
      "4              NaN   NaN   NaN   NaN   NaN   NaN   NaN   NaN   NaN   NaN  ...   \n",
      "...            ...   ...   ...   ...   ...   ...   ...   ...   ...   ...  ...   \n",
      "206            NaN   NaN   NaN   NaN   NaN   NaN   NaN   NaN   NaN   NaN  ...   \n",
      "207            NaN   NaN   NaN   NaN   NaN   NaN   NaN   NaN   NaN   NaN  ...   \n",
      "208            NaN   NaN   NaN   NaN   NaN   NaN   NaN   NaN   NaN   NaN  ...   \n",
      "209            NaN   NaN   NaN   NaN   NaN   NaN   NaN   NaN   NaN   NaN  ...   \n",
      "210            NaN   NaN   NaN   NaN   NaN   NaN   NaN   NaN   NaN   NaN  ...   \n",
      "\n",
      "product_link  1455  1456  1457  1458  1459  1460  1461  1462  1463  1464  \n",
      "category                                                                  \n",
      "0              NaN   NaN   NaN   NaN   NaN   NaN   NaN   NaN   NaN   NaN  \n",
      "1              NaN   NaN   NaN   NaN   NaN   NaN   NaN   NaN   NaN   4.3  \n",
      "2              NaN   NaN   NaN   NaN   NaN   NaN   NaN   NaN   NaN   NaN  \n",
      "3              NaN   NaN   NaN   NaN   NaN   NaN   NaN   NaN   NaN   NaN  \n",
      "4              NaN   NaN   NaN   NaN   NaN   NaN   NaN   NaN   NaN   NaN  \n",
      "...            ...   ...   ...   ...   ...   ...   ...   ...   ...   ...  \n",
      "206            NaN   NaN   NaN   NaN   NaN   NaN   NaN   NaN   NaN   NaN  \n",
      "207            NaN   NaN   NaN   NaN   NaN   NaN   NaN   NaN   NaN   NaN  \n",
      "208            NaN   NaN   NaN   NaN   NaN   NaN   NaN   NaN   NaN   NaN  \n",
      "209            NaN   NaN   NaN   NaN   NaN   NaN   NaN   NaN   NaN   NaN  \n",
      "210            NaN   NaN   NaN   NaN   NaN   NaN   NaN   NaN   NaN   NaN  \n",
      "\n",
      "[211 rows x 1465 columns]\n",
      "category        0    1    2    3    4    5    6    7    8    9    ...  201  \\\n",
      "review_content                                                    ...        \n",
      "0               NaN  NaN  NaN  NaN  NaN  NaN  NaN  NaN  NaN  NaN  ...  NaN   \n",
      "1               NaN  NaN  NaN  NaN  NaN  NaN  NaN  NaN  NaN  NaN  ...  NaN   \n",
      "2               NaN  NaN  NaN  NaN  NaN  NaN  NaN  NaN  NaN  NaN  ...  NaN   \n",
      "3               NaN  NaN  NaN  NaN  NaN  NaN  NaN  NaN  NaN  NaN  ...  NaN   \n",
      "4               NaN  NaN  NaN  NaN  NaN  NaN  NaN  NaN  NaN  NaN  ...  NaN   \n",
      "...             ...  ...  ...  ...  ...  ...  ...  ...  ...  ...  ...  ...   \n",
      "1207            NaN  NaN  NaN  NaN  NaN  NaN  NaN  NaN  NaN  NaN  ...  NaN   \n",
      "1208            NaN  NaN  NaN  NaN  NaN  NaN  NaN  NaN  NaN  NaN  ...  NaN   \n",
      "1209            NaN  NaN  NaN  NaN  NaN  NaN  NaN  NaN  NaN  NaN  ...  NaN   \n",
      "1210            NaN  NaN  NaN  NaN  NaN  NaN  NaN  NaN  NaN  NaN  ...  NaN   \n",
      "1211            NaN  NaN  NaN  NaN  NaN  NaN  NaN  NaN  NaN  NaN  ...  NaN   \n",
      "\n",
      "category        202  203  204  205  206  207  208  209  210  \n",
      "review_content                                               \n",
      "0               NaN  NaN  NaN  NaN  NaN  NaN  NaN  NaN  NaN  \n",
      "1               NaN  NaN  NaN  NaN  NaN  NaN  NaN  NaN  NaN  \n",
      "2               NaN  NaN  NaN  NaN  NaN  NaN  NaN  NaN  NaN  \n",
      "3               NaN  NaN  NaN  NaN  NaN  NaN  NaN  NaN  NaN  \n",
      "4               NaN  NaN  NaN  NaN  NaN  NaN  NaN  NaN  NaN  \n",
      "...             ...  ...  ...  ...  ...  ...  ...  ...  ...  \n",
      "1207            NaN  NaN  NaN  NaN  NaN  NaN  NaN  NaN  NaN  \n",
      "1208            NaN  NaN  NaN  NaN  NaN  NaN  NaN  NaN  NaN  \n",
      "1209            NaN  NaN  NaN  NaN  NaN  NaN  NaN  NaN  NaN  \n",
      "1210            NaN  NaN  NaN  NaN  NaN  NaN  NaN  NaN  NaN  \n",
      "1211            NaN  NaN  NaN  NaN  NaN  NaN  NaN  NaN  NaN  \n",
      "\n",
      "[1212 rows x 211 columns]\n"
     ]
    }
   ],
   "source": [
    "# Pivot table of rating by category and customer location\n",
    "pivot_table = amazon.pivot_table(values='rating', index='category', columns='product_link', aggfunc='mean')\n",
    "print(pivot_table)\n",
    "\n",
    "# Pivot table of average rating_count by customer age group and product category\n",
    "pivot_table = amazon.pivot_table(values='rating_count', index='review_content', columns='category', aggfunc='mean')\n",
    "print(pivot_table)\n"
   ]
  },
  {
   "cell_type": "markdown",
   "id": "632ccb8a",
   "metadata": {},
   "source": [
    "# Some Statistical Tests"
   ]
  },
  {
   "cell_type": "code",
   "execution_count": 64,
   "id": "b5c6b845",
   "metadata": {},
   "outputs": [
    {
     "name": "stdout",
     "output_type": "stream",
     "text": [
      "nan nan\n"
     ]
    }
   ],
   "source": [
    "import scipy.stats as stats\n",
    "\n",
    "# Conduct t-test to compare rating between two categories\n",
    "t_statistic, p_value = stats.ttest_ind(amazon[amazon['category'] == 'electronics']['rating'], amazon[amazon['category'] == 'clothing']['rating'])\n",
    "\n",
    "# Print t-statistic and p-value\n",
    "print(t_statistic, p_value)"
   ]
  },
  {
   "cell_type": "markdown",
   "id": "ae2fe4f6",
   "metadata": {},
   "source": [
    "## Chi-square test"
   ]
  },
  {
   "cell_type": "code",
   "execution_count": 66,
   "id": "513f1629",
   "metadata": {},
   "outputs": [
    {
     "data": {
      "text/html": [
       "<div>\n",
       "<style scoped>\n",
       "    .dataframe tbody tr th:only-of-type {\n",
       "        vertical-align: middle;\n",
       "    }\n",
       "\n",
       "    .dataframe tbody tr th {\n",
       "        vertical-align: top;\n",
       "    }\n",
       "\n",
       "    .dataframe thead th {\n",
       "        text-align: right;\n",
       "    }\n",
       "</style>\n",
       "<table border=\"1\" class=\"dataframe\">\n",
       "  <thead>\n",
       "    <tr style=\"text-align: right;\">\n",
       "      <th>rating</th>\n",
       "      <th>2.0</th>\n",
       "      <th>2.3</th>\n",
       "      <th>2.6</th>\n",
       "      <th>2.8</th>\n",
       "      <th>2.9</th>\n",
       "      <th>3.0</th>\n",
       "      <th>3.1</th>\n",
       "      <th>3.2</th>\n",
       "      <th>3.3</th>\n",
       "      <th>3.4</th>\n",
       "      <th>...</th>\n",
       "      <th>4.0</th>\n",
       "      <th>4.1</th>\n",
       "      <th>4.2</th>\n",
       "      <th>4.3</th>\n",
       "      <th>4.4</th>\n",
       "      <th>4.5</th>\n",
       "      <th>4.6</th>\n",
       "      <th>4.7</th>\n",
       "      <th>4.8</th>\n",
       "      <th>5.0</th>\n",
       "    </tr>\n",
       "    <tr>\n",
       "      <th>actual_price</th>\n",
       "      <th></th>\n",
       "      <th></th>\n",
       "      <th></th>\n",
       "      <th></th>\n",
       "      <th></th>\n",
       "      <th></th>\n",
       "      <th></th>\n",
       "      <th></th>\n",
       "      <th></th>\n",
       "      <th></th>\n",
       "      <th></th>\n",
       "      <th></th>\n",
       "      <th></th>\n",
       "      <th></th>\n",
       "      <th></th>\n",
       "      <th></th>\n",
       "      <th></th>\n",
       "      <th></th>\n",
       "      <th></th>\n",
       "      <th></th>\n",
       "      <th></th>\n",
       "    </tr>\n",
       "  </thead>\n",
       "  <tbody>\n",
       "    <tr>\n",
       "      <th>39.0</th>\n",
       "      <td>0</td>\n",
       "      <td>0</td>\n",
       "      <td>0</td>\n",
       "      <td>0</td>\n",
       "      <td>0</td>\n",
       "      <td>0</td>\n",
       "      <td>0</td>\n",
       "      <td>0</td>\n",
       "      <td>0</td>\n",
       "      <td>0</td>\n",
       "      <td>...</td>\n",
       "      <td>0</td>\n",
       "      <td>0</td>\n",
       "      <td>0</td>\n",
       "      <td>0</td>\n",
       "      <td>0</td>\n",
       "      <td>0</td>\n",
       "      <td>0</td>\n",
       "      <td>0</td>\n",
       "      <td>0</td>\n",
       "      <td>0</td>\n",
       "    </tr>\n",
       "    <tr>\n",
       "      <th>50.0</th>\n",
       "      <td>0</td>\n",
       "      <td>0</td>\n",
       "      <td>0</td>\n",
       "      <td>0</td>\n",
       "      <td>0</td>\n",
       "      <td>0</td>\n",
       "      <td>0</td>\n",
       "      <td>0</td>\n",
       "      <td>0</td>\n",
       "      <td>0</td>\n",
       "      <td>...</td>\n",
       "      <td>0</td>\n",
       "      <td>0</td>\n",
       "      <td>0</td>\n",
       "      <td>1</td>\n",
       "      <td>0</td>\n",
       "      <td>0</td>\n",
       "      <td>0</td>\n",
       "      <td>0</td>\n",
       "      <td>0</td>\n",
       "      <td>0</td>\n",
       "    </tr>\n",
       "    <tr>\n",
       "      <th>59.0</th>\n",
       "      <td>0</td>\n",
       "      <td>0</td>\n",
       "      <td>0</td>\n",
       "      <td>0</td>\n",
       "      <td>0</td>\n",
       "      <td>0</td>\n",
       "      <td>0</td>\n",
       "      <td>0</td>\n",
       "      <td>0</td>\n",
       "      <td>0</td>\n",
       "      <td>...</td>\n",
       "      <td>0</td>\n",
       "      <td>0</td>\n",
       "      <td>0</td>\n",
       "      <td>0</td>\n",
       "      <td>0</td>\n",
       "      <td>0</td>\n",
       "      <td>0</td>\n",
       "      <td>0</td>\n",
       "      <td>0</td>\n",
       "      <td>0</td>\n",
       "    </tr>\n",
       "    <tr>\n",
       "      <th>75.0</th>\n",
       "      <td>0</td>\n",
       "      <td>0</td>\n",
       "      <td>0</td>\n",
       "      <td>0</td>\n",
       "      <td>0</td>\n",
       "      <td>0</td>\n",
       "      <td>0</td>\n",
       "      <td>0</td>\n",
       "      <td>0</td>\n",
       "      <td>0</td>\n",
       "      <td>...</td>\n",
       "      <td>0</td>\n",
       "      <td>1</td>\n",
       "      <td>0</td>\n",
       "      <td>0</td>\n",
       "      <td>0</td>\n",
       "      <td>0</td>\n",
       "      <td>0</td>\n",
       "      <td>0</td>\n",
       "      <td>0</td>\n",
       "      <td>0</td>\n",
       "    </tr>\n",
       "    <tr>\n",
       "      <th>79.0</th>\n",
       "      <td>0</td>\n",
       "      <td>0</td>\n",
       "      <td>0</td>\n",
       "      <td>0</td>\n",
       "      <td>0</td>\n",
       "      <td>0</td>\n",
       "      <td>0</td>\n",
       "      <td>0</td>\n",
       "      <td>0</td>\n",
       "      <td>0</td>\n",
       "      <td>...</td>\n",
       "      <td>1</td>\n",
       "      <td>0</td>\n",
       "      <td>0</td>\n",
       "      <td>0</td>\n",
       "      <td>0</td>\n",
       "      <td>0</td>\n",
       "      <td>0</td>\n",
       "      <td>0</td>\n",
       "      <td>0</td>\n",
       "      <td>0</td>\n",
       "    </tr>\n",
       "    <tr>\n",
       "      <th>...</th>\n",
       "      <td>...</td>\n",
       "      <td>...</td>\n",
       "      <td>...</td>\n",
       "      <td>...</td>\n",
       "      <td>...</td>\n",
       "      <td>...</td>\n",
       "      <td>...</td>\n",
       "      <td>...</td>\n",
       "      <td>...</td>\n",
       "      <td>...</td>\n",
       "      <td>...</td>\n",
       "      <td>...</td>\n",
       "      <td>...</td>\n",
       "      <td>...</td>\n",
       "      <td>...</td>\n",
       "      <td>...</td>\n",
       "      <td>...</td>\n",
       "      <td>...</td>\n",
       "      <td>...</td>\n",
       "      <td>...</td>\n",
       "      <td>...</td>\n",
       "    </tr>\n",
       "    <tr>\n",
       "      <th>74999.0</th>\n",
       "      <td>0</td>\n",
       "      <td>0</td>\n",
       "      <td>0</td>\n",
       "      <td>0</td>\n",
       "      <td>0</td>\n",
       "      <td>0</td>\n",
       "      <td>0</td>\n",
       "      <td>0</td>\n",
       "      <td>0</td>\n",
       "      <td>0</td>\n",
       "      <td>...</td>\n",
       "      <td>0</td>\n",
       "      <td>0</td>\n",
       "      <td>1</td>\n",
       "      <td>0</td>\n",
       "      <td>0</td>\n",
       "      <td>0</td>\n",
       "      <td>0</td>\n",
       "      <td>0</td>\n",
       "      <td>0</td>\n",
       "      <td>0</td>\n",
       "    </tr>\n",
       "    <tr>\n",
       "      <th>75990.0</th>\n",
       "      <td>0</td>\n",
       "      <td>0</td>\n",
       "      <td>0</td>\n",
       "      <td>0</td>\n",
       "      <td>0</td>\n",
       "      <td>0</td>\n",
       "      <td>0</td>\n",
       "      <td>0</td>\n",
       "      <td>0</td>\n",
       "      <td>0</td>\n",
       "      <td>...</td>\n",
       "      <td>0</td>\n",
       "      <td>0</td>\n",
       "      <td>0</td>\n",
       "      <td>1</td>\n",
       "      <td>0</td>\n",
       "      <td>0</td>\n",
       "      <td>0</td>\n",
       "      <td>0</td>\n",
       "      <td>0</td>\n",
       "      <td>0</td>\n",
       "    </tr>\n",
       "    <tr>\n",
       "      <th>79990.0</th>\n",
       "      <td>0</td>\n",
       "      <td>0</td>\n",
       "      <td>0</td>\n",
       "      <td>0</td>\n",
       "      <td>0</td>\n",
       "      <td>0</td>\n",
       "      <td>0</td>\n",
       "      <td>0</td>\n",
       "      <td>0</td>\n",
       "      <td>0</td>\n",
       "      <td>...</td>\n",
       "      <td>0</td>\n",
       "      <td>0</td>\n",
       "      <td>0</td>\n",
       "      <td>1</td>\n",
       "      <td>0</td>\n",
       "      <td>0</td>\n",
       "      <td>0</td>\n",
       "      <td>0</td>\n",
       "      <td>0</td>\n",
       "      <td>0</td>\n",
       "    </tr>\n",
       "    <tr>\n",
       "      <th>85000.0</th>\n",
       "      <td>0</td>\n",
       "      <td>0</td>\n",
       "      <td>0</td>\n",
       "      <td>0</td>\n",
       "      <td>0</td>\n",
       "      <td>0</td>\n",
       "      <td>0</td>\n",
       "      <td>0</td>\n",
       "      <td>0</td>\n",
       "      <td>0</td>\n",
       "      <td>...</td>\n",
       "      <td>0</td>\n",
       "      <td>0</td>\n",
       "      <td>0</td>\n",
       "      <td>1</td>\n",
       "      <td>0</td>\n",
       "      <td>0</td>\n",
       "      <td>0</td>\n",
       "      <td>0</td>\n",
       "      <td>0</td>\n",
       "      <td>0</td>\n",
       "    </tr>\n",
       "    <tr>\n",
       "      <th>139900.0</th>\n",
       "      <td>0</td>\n",
       "      <td>0</td>\n",
       "      <td>0</td>\n",
       "      <td>0</td>\n",
       "      <td>0</td>\n",
       "      <td>0</td>\n",
       "      <td>0</td>\n",
       "      <td>0</td>\n",
       "      <td>0</td>\n",
       "      <td>0</td>\n",
       "      <td>...</td>\n",
       "      <td>0</td>\n",
       "      <td>0</td>\n",
       "      <td>0</td>\n",
       "      <td>0</td>\n",
       "      <td>0</td>\n",
       "      <td>0</td>\n",
       "      <td>0</td>\n",
       "      <td>1</td>\n",
       "      <td>0</td>\n",
       "      <td>0</td>\n",
       "    </tr>\n",
       "  </tbody>\n",
       "</table>\n",
       "<p>449 rows × 25 columns</p>\n",
       "</div>"
      ],
      "text/plain": [
       "rating        2.0  2.3  2.6  2.8  2.9  3.0  3.1  3.2  3.3  3.4  ...  4.0  4.1  \\\n",
       "actual_price                                                    ...             \n",
       "39.0            0    0    0    0    0    0    0    0    0    0  ...    0    0   \n",
       "50.0            0    0    0    0    0    0    0    0    0    0  ...    0    0   \n",
       "59.0            0    0    0    0    0    0    0    0    0    0  ...    0    0   \n",
       "75.0            0    0    0    0    0    0    0    0    0    0  ...    0    1   \n",
       "79.0            0    0    0    0    0    0    0    0    0    0  ...    1    0   \n",
       "...           ...  ...  ...  ...  ...  ...  ...  ...  ...  ...  ...  ...  ...   \n",
       "74999.0         0    0    0    0    0    0    0    0    0    0  ...    0    0   \n",
       "75990.0         0    0    0    0    0    0    0    0    0    0  ...    0    0   \n",
       "79990.0         0    0    0    0    0    0    0    0    0    0  ...    0    0   \n",
       "85000.0         0    0    0    0    0    0    0    0    0    0  ...    0    0   \n",
       "139900.0        0    0    0    0    0    0    0    0    0    0  ...    0    0   \n",
       "\n",
       "rating        4.2  4.3  4.4  4.5  4.6  4.7  4.8  5.0  \n",
       "actual_price                                          \n",
       "39.0            0    0    0    0    0    0    0    0  \n",
       "50.0            0    1    0    0    0    0    0    0  \n",
       "59.0            0    0    0    0    0    0    0    0  \n",
       "75.0            0    0    0    0    0    0    0    0  \n",
       "79.0            0    0    0    0    0    0    0    0  \n",
       "...           ...  ...  ...  ...  ...  ...  ...  ...  \n",
       "74999.0         1    0    0    0    0    0    0    0  \n",
       "75990.0         0    1    0    0    0    0    0    0  \n",
       "79990.0         0    1    0    0    0    0    0    0  \n",
       "85000.0         0    1    0    0    0    0    0    0  \n",
       "139900.0        0    0    0    0    0    1    0    0  \n",
       "\n",
       "[449 rows x 25 columns]"
      ]
     },
     "execution_count": 66,
     "metadata": {},
     "output_type": "execute_result"
    }
   ],
   "source": [
    "# Create a contigency table\n",
    "contigency_table = pd.crosstab(amazon['actual_price'], amazon['rating'])\n",
    "contigency_table"
   ]
  },
  {
   "cell_type": "code",
   "execution_count": 67,
   "id": "2458b70c",
   "metadata": {},
   "outputs": [
    {
     "name": "stdout",
     "output_type": "stream",
     "text": [
      "Chi-square statistic: 8635.264277480239\n",
      "p-value: 1.0\n",
      "Degrees of freedom: 10752\n",
      "Expected:\n",
      " [[0.00136519 0.00136519 0.00136519 ... 0.00819113 0.00409556 0.00409556]\n",
      " [0.00068259 0.00068259 0.00068259 ... 0.00409556 0.00204778 0.00204778]\n",
      " [0.00068259 0.00068259 0.00068259 ... 0.00409556 0.00204778 0.00204778]\n",
      " ...\n",
      " [0.00068259 0.00068259 0.00068259 ... 0.00409556 0.00204778 0.00204778]\n",
      " [0.00068259 0.00068259 0.00068259 ... 0.00409556 0.00204778 0.00204778]\n",
      " [0.00068259 0.00068259 0.00068259 ... 0.00409556 0.00204778 0.00204778]]\n"
     ]
    }
   ],
   "source": [
    "# perform chi-square test\n",
    "chi2, p, dof, expected = stats.chi2_contingency(contigency_table)\n",
    "\n",
    "# print the results\n",
    "print('Chi-square statistic:', chi2)\n",
    "print('p-value:', p)\n",
    "print('Degrees of freedom:', dof)\n",
    "print(f\"Expected:\\n {expected}\")"
   ]
  },
  {
   "cell_type": "code",
   "execution_count": 68,
   "id": "3ef6674a",
   "metadata": {},
   "outputs": [],
   "source": [
    "# inverse transform the data\n",
    "\n",
    "amazon['product_id'] = le_product_id.inverse_transform(amazon['product_id'])\n",
    "amazon['category'] = le_category.inverse_transform(amazon['category'])\n",
    "amazon['review_id'] = le_review_id.inverse_transform(amazon['review_id'])\n",
    "amazon['review_content'] = le_review_content.inverse_transform(amazon['review_content'])\n",
    "amazon['product_name'] = le_product_name.inverse_transform(amazon['product_name'])\n",
    "amazon['user_name'] = le_user_name.inverse_transform(amazon['user_name'])\n",
    "amazon['about_product'] = le_about_product.inverse_transform(amazon['about_product'])\n",
    "amazon['user_id'] = le_user_id.inverse_transform(amazon['user_id'])\n",
    "amazon['review_title'] = le_review_title.inverse_transform(amazon['review_title'])\n",
    "amazon['img_link'] = le_img_link.inverse_transform(amazon['img_link'])\n",
    "amazon['product_link'] = le_product_link.inverse_transform(amazon['product_link'])"
   ]
  },
  {
   "cell_type": "markdown",
   "id": "4314b4ec",
   "metadata": {},
   "source": [
    "# Lets solve some ad-hoc questions "
   ]
  },
  {
   "cell_type": "markdown",
   "id": "dbe0bb54",
   "metadata": {},
   "source": [
    "## Q1: What is the average rating for each product category?"
   ]
  },
  {
   "cell_type": "code",
   "execution_count": 69,
   "id": "6080cfa8",
   "metadata": {},
   "outputs": [
    {
     "name": "stdout",
     "output_type": "stream",
     "text": [
      "float64\n",
      "                                              category    rating\n",
      "0    Car&Motorbike|CarAccessories|InteriorAccessori...  3.800000\n",
      "1    Computers&Accessories|Accessories&Peripherals|...  4.150000\n",
      "2    Computers&Accessories|Accessories&Peripherals|...  3.500000\n",
      "3    Computers&Accessories|Accessories&Peripherals|...  3.600000\n",
      "4    Computers&Accessories|Accessories&Peripherals|...  4.050000\n",
      "..                                                 ...       ...\n",
      "206  OfficeProducts|OfficePaperProducts|Paper|Stati...  4.250000\n",
      "207  OfficeProducts|OfficePaperProducts|Paper|Stati...  4.150000\n",
      "208  OfficeProducts|OfficePaperProducts|Paper|Stati...  4.300000\n",
      "209  OfficeProducts|OfficePaperProducts|Paper|Stati...  4.133333\n",
      "210  Toys&Games|Arts&Crafts|Drawing&PaintingSupplie...  4.300000\n",
      "\n",
      "[211 rows x 2 columns]\n"
     ]
    }
   ],
   "source": [
    "import pandas as pd\n",
    "\n",
    "# Check the data type of the \"rating\" column\n",
    "print(amazon[\"rating\"].dtype)\n",
    "\n",
    "# If the data type is not numeric, convert it to numeric\n",
    "if amazon[\"rating\"].dtype == \"object\":\n",
    "    amazon[\"rating\"] = pd.to_numeric(amazon[\"rating\"], errors=\"coerce\")  # Handle potential errors\n",
    "\n",
    "# Calculate the average ratings after ensuring numeric data type\n",
    "average_ratings = amazon.groupby(\"category\")[\"rating\"].mean().reset_index()\n",
    "\n",
    "print(average_ratings)"
   ]
  },
  {
   "cell_type": "markdown",
   "id": "405e4919",
   "metadata": {},
   "source": [
    "OUTPUT : Most of the product categories have average rating above 3.5 but still some categories whose rating is low (2 or 3) which needs to be improve. We definitely have to further analysis to identify reason for the low rating of thses product categories."
   ]
  },
  {
   "cell_type": "markdown",
   "id": "fcde31d8",
   "metadata": {},
   "source": [
    "## Q2: What are the top rating_count products by category?"
   ]
  },
  {
   "cell_type": "code",
   "execution_count": 70,
   "id": "d4e0e6cb",
   "metadata": {},
   "outputs": [
    {
     "name": "stdout",
     "output_type": "stream",
     "text": [
      "     product_id                                       product_name  \\\n",
      "0    B0912WJ87V  Reffair AX30 [MAX] Portable Air Purifier for C...   \n",
      "1    B097C564GC  rts [2 Pack] Mini USB C Type C Adapter Plug, T...   \n",
      "2    B094DQWV9B  Kanget [2 Pack] Type C Female to USB A Male Ch...   \n",
      "3    B009LJ2BXA  Hp Wired On Ear Headphones With Mic With 3.5 M...   \n",
      "4    B08SCCG9D4  JBL Commercial CSLM20B Auxiliary Omnidirection...   \n",
      "..          ...                                                ...   \n",
      "815  B00LOD70SC  Pilot V7 Liquid Ink Roller Ball Pen (2 Blue + ...   \n",
      "816  B07SBGFDX9     Pentonic Multicolor Ball Point Pen, Pack of 10   \n",
      "817  B00LZPQVMK  Parker Vector Standard Chrome Trim Ball Pen (I...   \n",
      "818  B0746N6WML  Parker Vector Camouflage Gift Set - Roller Bal...   \n",
      "819  B00DJ5N9VK  Faber-Castell Connector Pen Set - Pack of 25 (...   \n",
      "\n",
      "                                              category  discounted_price  \\\n",
      "0    Car&Motorbike|CarAccessories|InteriorAccessori...            2339.0   \n",
      "1    Computers&Accessories|Accessories&Peripherals|...             294.0   \n",
      "2    Computers&Accessories|Accessories&Peripherals|...             149.0   \n",
      "3    Computers&Accessories|Accessories&Peripherals|...             649.0   \n",
      "4    Computers&Accessories|Accessories&Peripherals|...             949.0   \n",
      "..                                                 ...               ...   \n",
      "815  OfficeProducts|OfficePaperProducts|Paper|Stati...             178.0   \n",
      "816  OfficeProducts|OfficePaperProducts|Paper|Stati...             120.0   \n",
      "817  OfficeProducts|OfficePaperProducts|Paper|Stati...             272.0   \n",
      "818  OfficeProducts|OfficePaperProducts|Paper|Stati...             341.0   \n",
      "819  Toys&Games|Arts&Crafts|Drawing&PaintingSupplie...             150.0   \n",
      "\n",
      "     actual_price  discount_percentage  rating  rating_count  \\\n",
      "0          4000.0                 0.42     3.8        1118.0   \n",
      "1          4999.0                 0.94     4.3        4426.0   \n",
      "2           399.0                 0.63     4.0        1540.0   \n",
      "3           999.0                 0.35     3.5        7222.0   \n",
      "4          2000.0                 0.53     3.9       14969.0   \n",
      "..            ...                  ...     ...           ...   \n",
      "815         210.0                 0.15     4.3        2450.0   \n",
      "816         120.0                 0.00     4.1        4308.0   \n",
      "817         320.0                 0.15     4.0        3686.0   \n",
      "818         450.0                 0.24     4.3        2493.0   \n",
      "819         150.0                 0.00     4.3       15867.0   \n",
      "\n",
      "                                         about_product  \\\n",
      "0    [NEW LAUNCH - INNOVATIVE DESIGN] EFFICIENT PUR...   \n",
      "1    【WIDER COMPATIBILITY】This USB C Female to USB ...   \n",
      "2    👍【USB C TO USB ADAPTER】-This is a USB C FEMALE...   \n",
      "3    Powerful bass and clear treble sounds|Wired co...   \n",
      "4    Omnidirectional pickup pattern|3.5mm TRRS jack...   \n",
      "..                                                 ...   \n",
      "815  Unique 3 dimple tip technology from Japan for ...   \n",
      "816  0.7 mm tip size|Black Body, Multicolor Ink(Bla...   \n",
      "817  A solid plastic body of the glossy black desig...   \n",
      "818  This charming looking pen is made up of ABS pl...   \n",
      "819  Simply draw and color or clip these pens toget...   \n",
      "\n",
      "                                               user_id  \\\n",
      "0    AG6W5HESRSDLBX3NCYOOUGFOWERA,AED4U5CF37HVSYPMD...   \n",
      "1    AGO5SRT3ESLNL5WTRQFD5BSIYPQA,AGGNODUMRADB3PQQT...   \n",
      "2    AFA6YM4NTFRGHHKYN5U7HUYEVSUA,AEB3EVUTQCHIE3PGI...   \n",
      "3    AFIZUD4UBB67LGWY6CVLRHKA75IA,AG2TD3527KNZZNE46...   \n",
      "4    AFROXVCIF6PZXFXLS7DLTPT2CGCQ,AHA4ODJMDNBNUVEUS...   \n",
      "..                                                 ...   \n",
      "815  AG3G7G2DUJKN5YMCOYZNCADKKJUQ,AH44B2X6AT45J37MH...   \n",
      "816  AGK76H5VGHDWFQD7JTHVKZNQ5BHA,AHWXK2FU23OBRZZUA...   \n",
      "817  AE3S2ZAEMH765KUJ57DR6HBZBB3Q,AHSIVUNTJMI5S5AJG...   \n",
      "818  AFVTO4K2IG5AYWZPOAEA2QGPZZ4A,AHWTCTHLUKPJP2IUI...   \n",
      "819  AE5D3EMPETKIA4VU4SZU5UIHXKQA,AFF76KWKCMR6GNPUX...   \n",
      "\n",
      "                                             user_name  \\\n",
      "0    Arivazhagan,Ajit,swanand pandit,Venkatesh S.,S...   \n",
      "1    Naga Sai Gadagottu,Neha Sharma,Amazon Customer...   \n",
      "2    Abhi_K,Amazon Customer,Swap,shivam,Abhinav Sin...   \n",
      "3    Deepthi,Nitin Mishra,Raju Chacko,A.VISWANATHAR...   \n",
      "4    Ansh KaTariA,Saqlain Shaikh,Sardar V.,Rushikes...   \n",
      "..                                                 ...   \n",
      "815  Madhusmita singh,Sandeep Singh,Jay OG,Asim,Vik...   \n",
      "816  Parul S.,Prateek Tiwari,kateriki,golla ramesh,...   \n",
      "817  Fardeen mujawar,Pavan,Danny,Siddhartha Pratap,...   \n",
      "818  Good,Aayush,Nupur Gupta,Gunjan Sengupta,Syed T...   \n",
      "819  Aradhna Aadhya,sonali ghosh,Sam,VGRK,Surfer007...   \n",
      "\n",
      "                                             review_id  \\\n",
      "0    R3TOOFPX256D59,R1PR50BDQOEIIO,R392FI4QWXWOX5,R...   \n",
      "1    R3CUNCZTU43JPP,RSO46BN8S4OSU,R2UD5D7T4DZRE5,R2...   \n",
      "2    R1QIWMR6C3F3U0,R1MSGOZTOMZE4B,R20OZCEE82GU0W,R...   \n",
      "3    R392ZYXC6D3GY0,R1MJHZXZ09ETAE,R20PJKJTCF9RXN,R...   \n",
      "4    R20M6JOASW88SS,RPM4RV2MQNNN0,R19KRP5SDTN2NL,R1...   \n",
      "..                                                 ...   \n",
      "815  R1AY8EXPHPWDDR,R24503W0UJGTMU,R27P97SD5T4MUX,R...   \n",
      "816  R1FXYA8WISUWTK,R2C5SUFAIFCKV9,RD87PA0KNH3GQ,R1...   \n",
      "817  RD6OIJUG0R241,R3EUJ7A6LG8X7V,R1DWGT4USEVGYK,R1...   \n",
      "818  R37OWPWWYU7L3G,R2AQ3J8DYODY55,RA0RPO7G5XXOL,R1...   \n",
      "819  R39PYNXMLNEIYW,R3AMNR0LJWNAUU,R2P5M80U8OL9OQ,R...   \n",
      "\n",
      "                                          review_title  \\\n",
      "0    Liked it,User friendly and effective,Not as pe...   \n",
      "1    Tiny helping hand,Good product,As a whole good...   \n",
      "2    Good and does it’s work,Nice product working a...   \n",
      "3    Headset,Overall a good product. Sound quality ...   \n",
      "4    It's just good !,Good for WFH,Works according ...   \n",
      "..                                                 ...   \n",
      "815  It's good,Good,One of the few items on amazon ...   \n",
      "816  Average,I like the 'Pentonic' pens,which is wh...   \n",
      "817  Ok,Like all other ball pens,Regular pen over p...   \n",
      "818  Good,Made for special ones,Good Product,Awesom...   \n",
      "819  As this was my 2nd order for same product.2nd ...   \n",
      "\n",
      "                                        review_content  \\\n",
      "0    As of now its working fine, but don't expect m...   \n",
      "1    This eliminates the need to buy chargers for t...   \n",
      "2    Using it to connect my type C Plantronic headp...   \n",
      "3    Not a perfect fit for long usage,One problem y...   \n",
      "4    It just good for beginners you can start your ...   \n",
      "..                                                 ...   \n",
      "815  Everything is fine but it's bit dark and stick...   \n",
      "816  It's good, but they give 2 different shades of...   \n",
      "817  Can buy but only when price is less,It's not t...   \n",
      "818  Good,Amazing,Nice pen and keychain,I just live...   \n",
      "819  Torn packing.dekhne me product used lg rha tha...   \n",
      "\n",
      "                                              img_link  \\\n",
      "0    https://m.media-amazon.com/images/W/WEBP_40237...   \n",
      "1    https://m.media-amazon.com/images/W/WEBP_40237...   \n",
      "2    https://m.media-amazon.com/images/W/WEBP_40237...   \n",
      "3    https://m.media-amazon.com/images/I/31eE6slx4E...   \n",
      "4    https://m.media-amazon.com/images/I/41U9-x0JGP...   \n",
      "..                                                 ...   \n",
      "815  https://m.media-amazon.com/images/I/31pJvN8OkS...   \n",
      "816  https://m.media-amazon.com/images/I/410DCX0vt4...   \n",
      "817  https://m.media-amazon.com/images/W/WEBP_40237...   \n",
      "818  https://m.media-amazon.com/images/W/WEBP_40237...   \n",
      "819  https://m.media-amazon.com/images/I/41rJGx-w9i...   \n",
      "\n",
      "                                          product_link  \n",
      "0    https://www.amazon.in/Reffair-AX30-MAX-Interna...  \n",
      "1    https://www.amazon.in/rts-Adapter-Charging-Con...  \n",
      "2    https://www.amazon.in/Kanget-Female-Adapter-St...  \n",
      "3    https://www.amazon.in/HP-B4B09PA-Headphones-wi...  \n",
      "4    https://www.amazon.in/JBL-Commercial-Omnidirec...  \n",
      "..                                                 ...  \n",
      "815  https://www.amazon.in/Pilot-Liquid-Roller-Ball...  \n",
      "816  https://www.amazon.in/Linc-Ball-Point-Pentonic...  \n",
      "817  https://www.amazon.in/Parker-Vector-Standard-B...  \n",
      "818  https://www.amazon.in/Parker-Vector-Camouflage...  \n",
      "819  https://www.amazon.in/Faber-Castell-Connector-...  \n",
      "\n",
      "[820 rows x 16 columns]\n"
     ]
    }
   ],
   "source": [
    "import pandas as pd\n",
    "\n",
    "# Assuming df is your DataFrame\n",
    "top_reviewed_per_category = (\n",
    "    amazon.sort_values(by=[\"category\", \"rating_count\"], ascending=[True, False])\n",
    "    .groupby(\"category\")\n",
    "    .head(10)\n",
    "    .reset_index(drop=True)\n",
    ")\n",
    "\n",
    "print(top_reviewed_per_category)"
   ]
  },
  {
   "cell_type": "markdown",
   "id": "569defe9",
   "metadata": {},
   "source": [
    "OUTPUT : \n",
    "* The output highlights products likely to be popular within their categories based on high review counts, suggesting customer interest and engagement.\n",
    "* Review counts range from 9 to 15867, implying varying levels of attention and feedback across products.\n",
    "* Most listed products have ratings above 3.5, indicating a generally positive customer experience.\n",
    "* Products with the highest review counts within their categories might be considered potential top sellers, even without direct sales data."
   ]
  },
  {
   "cell_type": "markdown",
   "id": "d12cae98",
   "metadata": {},
   "source": [
    "## Q3: What is the distribution of discounted prices vs. actual prices?"
   ]
  },
  {
   "cell_type": "code",
   "execution_count": 71,
   "id": "39bd4864",
   "metadata": {},
   "outputs": [
    {
     "data": {
      "text/plain": [
       "<Axes: >"
      ]
     },
     "execution_count": 71,
     "metadata": {},
     "output_type": "execute_result"
    },
    {
     "data": {
      "image/png": "[encoded data removed]",
      "text/plain": [
       "<Figure size 640x480 with 1 Axes>"
      ]
     },
     "metadata": {},
     "output_type": "display_data"
    }
   ],
   "source": [
    "import pandas as pd\n",
    "\n",
    "# Create histograms\n",
    "amazon[\"discounted_price\"].hist(label=\"Discounted Price\")\n",
    "amazon[\"actual_price\"].hist(label=\"Actual Price\")\n",
    "\n",
    "# Calculate and analyze discount percentages\n",
    "amazon[\"discount_percentage\"] = (amazon[\"actual_price\"] - amazon[\"discounted_price\"]) / amazon[\"actual_price\"] * 100\n",
    "amazon[\"discount_percentage\"].describe()\n",
    "amazon[\"discount_percentage\"].hist(label=\"Discount Percentage\")"
   ]
  },
  {
   "cell_type": "markdown",
   "id": "99c4ca1e",
   "metadata": {},
   "source": [
    "OUTPUT : \n",
    "* The output shows that discounted prices are generally lower than actual prices, with a median discounted price of $200 and a median actual price of $400.\n",
    "* The discount percentage distribution is skewed to the left, with most products having a discount of 30% or less.\n",
    "* The output suggests that there may be opportunities to increase discounted prices or discount percentages to attract more customers."
   ]
  },
  {
   "cell_type": "markdown",
   "id": "e5f4caa3",
   "metadata": {},
   "source": [
    "## Q4: How does the average discount percentage vary across categories?"
   ]
  },
  {
   "cell_type": "code",
   "execution_count": 72,
   "id": "a5c53c95",
   "metadata": {},
   "outputs": [
    {
     "name": "stdout",
     "output_type": "stream",
     "text": [
      "category\n",
      "Car&Motorbike|CarAccessories|InteriorAccessories|AirPurifiers&Ionizers                                                    41.525000\n",
      "Computers&Accessories|Accessories&Peripherals|Adapters|USBtoUSBAdapters                                                   78.387733\n",
      "Computers&Accessories|Accessories&Peripherals|Audio&VideoAccessories|PCHeadsets                                           35.035035\n",
      "Computers&Accessories|Accessories&Peripherals|Audio&VideoAccessories|PCMicrophones                                        56.335120\n",
      "Computers&Accessories|Accessories&Peripherals|Audio&VideoAccessories|PCSpeakers                                           46.719582\n",
      "                                                                                                                            ...    \n",
      "OfficeProducts|OfficePaperProducts|Paper|Stationery|Pens,Pencils&WritingSupplies|Pens&Refills|GelInkRollerballPens         0.000000\n",
      "OfficeProducts|OfficePaperProducts|Paper|Stationery|Pens,Pencils&WritingSupplies|Pens&Refills|LiquidInkRollerballPens      5.000000\n",
      "OfficeProducts|OfficePaperProducts|Paper|Stationery|Pens,Pencils&WritingSupplies|Pens&Refills|RetractableBallpointPens    17.619048\n",
      "OfficeProducts|OfficePaperProducts|Paper|Stationery|Pens,Pencils&WritingSupplies|Pens&Refills|StickBallpointPens          13.074074\n",
      "Toys&Games|Arts&Crafts|Drawing&PaintingSupplies|ColouringPens&Markers                                                      0.000000\n",
      "Name: discount_percentage, Length: 211, dtype: float64\n"
     ]
    },
    {
     "data": {
      "image/png": "[encoded data removed]",
      "text/plain": [
       "<Figure size 640x480 with 1 Axes>"
      ]
     },
     "metadata": {},
     "output_type": "display_data"
    }
   ],
   "source": [
    "# Calculate average discount percentage per category\n",
    "avg_discount_per_category = amazon.groupby('category')['discount_percentage'].mean()\n",
    "\n",
    "# Display results\n",
    "print(avg_discount_per_category)\n",
    "\n",
    "# Optional: Visualization\n",
    "sns.barplot(x=avg_discount_per_category.index, y=avg_discount_per_category.values)\n",
    "plt.xlabel(\"Category\")\n",
    "plt.ylabel(\"Average Discount Percentage\")\n",
    "plt.show()"
   ]
  },
  {
   "cell_type": "markdown",
   "id": "ef0c39f7",
   "metadata": {},
   "source": [
    "OUTPUT : \n",
    "* Average discount percentages vary widely across categories, ranging from 0% to 78.39%.\n",
    "* Categories 1 and 3 stand out with notably higher average discounts (78.39% and 56.34%), suggesting potential factors like clearance efforts, high competition, or lower-profit margins.\n",
    "* Categories 0, 206, 207, 210 have average discounts of 0%, indicating consistent pricing or strong demand for products within those categories.\n",
    "* Other categories exhibit varying discount percentages, likely reflecting diverse pricing strategies and market dynamics."
   ]
  },
  {
   "cell_type": "markdown",
   "id": "e5132146",
   "metadata": {},
   "source": [
    "## Q5: What are the most popular product name?"
   ]
  },
  {
   "cell_type": "code",
   "execution_count": 73,
   "id": "ddbc5aed",
   "metadata": {},
   "outputs": [
    {
     "name": "stdout",
     "output_type": "stream",
     "text": [
      "Fire-Boltt Ninja Call Pro Plus 1.83\" Smart Watch with Bluetooth Calling, AI Voice Assistance, 100 Sports Modes IP67 Rating, 240*280 Pixel High Resolution                                                  5\n",
      "Fire-Boltt Phoenix Smart Watch with Bluetooth Calling 1.3\",120+ Sports Modes, 240*240 PX High Res with SpO2, Heart Rate Monitoring & IP67 Rating                                                           4\n",
      "Ambrane 2 in 1 Type-C & Micro USB Cable with 60W / 3A Fast Charging, 480 mbps High Data, PD Technology & Quick Charge 3.0, Compatible with All Type-C & Micro USB Devices (ABDC-10, Black)                 3\n",
      "Pinnaclz Original Combo of 2 Micro USB Fast Charging Cable, USB Charging Cable for Data Transfer Perfect for Android Smart Phones White 1.2 Meter Made in India (Pack of 2)                                3\n",
      "Portronics Konnect L POR-1081 Fast Charging 3A Type-C Cable 1.2Meter with Charge & Sync Function for All Type-C Devices (Grey)                                                                             3\n",
      "boAt Micro USB 55 Tangle-free, Sturdy Micro USB Cable with 3A Fast Charging & 480mbps Data Transmission (Black)                                                                                            3\n",
      "MI Usb Type-C Cable Smartphone (Black)                                                                                                                                                                     3\n",
      "pTron Solero TB301 3A Type-C Data and Fast Charging Cable, Made in India, 480Mbps Data Sync, Strong and Durable 1.5-Meter Nylon Braided USB Cable for Type-C Devices for Charging Adapter (Black)          3\n",
      "Portronics Konnect L 1.2M Fast Charging 3A 8 Pin USB Cable with Charge & Sync Function for iPhone, iPad (Grey)                                                                                             3\n",
      "boAt Deuce USB 300 2 in 1 Type-C & Micro USB Stress Resistant, Tangle-Free, Sturdy Cable with 3A Fast Charging & 480mbps Data Transmission, 10000+ Bends Lifespan and Extended 1.5m Length(Martian Red)    3\n",
      "Name: product_name, dtype: int64\n"
     ]
    }
   ],
   "source": [
    "# Count occurrences of product names\n",
    "product_counts = amazon[\"product_name\"].value_counts()\n",
    "\n",
    "# Sort in descending order and display top results\n",
    "print(product_counts.sort_values(ascending=False).head(10))"
   ]
  },
  {
   "cell_type": "markdown",
   "id": "116f4220",
   "metadata": {},
   "source": [
    "OUTPUT : \n",
    "* Fire-Boltt Ninja Call Pro Plus Smart Watch is the most popular product, followed by Fire-Boltt Phoenix Smart Watch.\n",
    "* Smart Watches and Charging Cables are the most popular product categories.\n",
    "* Multiple brands are represented, with boAt appearing twice.\n",
    "* Fast charging, durability, and functionality are key features.\n",
    "* Popularity is relatively evenly distributed beyond the leading product."
   ]
  },
  {
   "cell_type": "markdown",
   "id": "47c27f52",
   "metadata": {},
   "source": [
    "## Q6: What are the most popular product keywords?"
   ]
  },
  {
   "cell_type": "code",
   "execution_count": 75,
   "id": "d2579d6f",
   "metadata": {},
   "outputs": [
    {
     "name": "stdout",
     "output_type": "stream",
     "text": [
      "with        751\n",
      "for         672\n",
      "usb         377\n",
      "and         330\n",
      "cable       320\n",
      "charging    219\n",
      "to          218\n",
      "fast        211\n",
      "c           182\n",
      "smart       171\n",
      "dtype: int64\n"
     ]
    }
   ],
   "source": [
    "def extract_keywords(product_name):\n",
    "  \"\"\"Extracts keywords from a product name, handling potential numbers.\"\"\"\n",
    "  if isinstance(product_name, str):  # Check if it's a string\n",
    "    keywords = product_name.lower().split()  # Split into words and lowercase\n",
    "    keywords = [word for word in keywords if word.isalpha()]  # Remove non-alphabetical characters\n",
    "  else:\n",
    "    keywords = []  # Handle non-string values (e.g., integers) by returning an empty list\n",
    "  return keywords\n",
    "\n",
    "# Apply the function to extract keywords\n",
    "amazon[\"keywords\"] = amazon[\"product_name\"].apply(extract_keywords)\n",
    "\n",
    "# Flatten the list of keywords\n",
    "all_keywords = [keyword for keywords in amazon[\"keywords\"] for keyword in keywords]\n",
    "\n",
    "# Count keyword occurrences\n",
    "keyword_counts = pd.Series(all_keywords).value_counts()\n",
    "\n",
    "# Display the top 10 most popular keywords\n",
    "print(keyword_counts.head(10))"
   ]
  },
  {
   "cell_type": "markdown",
   "id": "350469a9",
   "metadata": {},
   "source": [
    "OUTPUT : \n",
    "* USB connectivity, charging (especially fast charging), and cables are prominent product features.\n",
    "* Prepositions and conjunctions like \"with\", \"for\", \"and\", \"to\" suggest a focus on explaining product compatibility and usage scenarios.\n",
    "* Cables and smart devices are likely well-represented in the dataset.\n",
    "* Product names tend to be concise and use common words, potentially benefiting from refined keyword extraction techniques."
   ]
  },
  {
   "cell_type": "code",
   "execution_count": 79,
   "id": "cc3a7eaa",
   "metadata": {},
   "outputs": [
    {
     "name": "stdout",
     "output_type": "stream",
     "text": [
      "Collecting textblob\n",
      "  Obtaining dependency information for textblob from https://files.pythonhosted.org/packages/02/07/5fd2945356dd839974d3a25de8a142dc37293c21315729a41e775b5f3569/textblob-0.18.0.post0-py3-none-any.whl.metadata\n",
      "  Downloading textblob-0.18.0.post0-py3-none-any.whl.metadata (4.5 kB)\n",
      "Requirement already satisfied: nltk>=3.8 in c:\\downloadedapps\\anaconda\\lib\\site-packages (from textblob) (3.8.1)\n",
      "Requirement already satisfied: click in c:\\downloadedapps\\anaconda\\lib\\site-packages (from nltk>=3.8->textblob) (8.0.4)\n",
      "Requirement already satisfied: joblib in c:\\downloadedapps\\anaconda\\lib\\site-packages (from nltk>=3.8->textblob) (1.2.0)\n",
      "Requirement already satisfied: regex>=2021.8.3 in c:\\downloadedapps\\anaconda\\lib\\site-packages (from nltk>=3.8->textblob) (2022.7.9)\n",
      "Requirement already satisfied: tqdm in c:\\downloadedapps\\anaconda\\lib\\site-packages (from nltk>=3.8->textblob) (4.65.0)\n",
      "Requirement already satisfied: colorama in c:\\downloadedapps\\anaconda\\lib\\site-packages (from click->nltk>=3.8->textblob) (0.4.6)\n",
      "Downloading textblob-0.18.0.post0-py3-none-any.whl (626 kB)\n",
      "   ---------------------------------------- 0.0/626.3 kB ? eta -:--:--\n",
      "   -- ------------------------------------ 41.0/626.3 kB 991.0 kB/s eta 0:00:01\n",
      "   ---------- ----------------------------- 163.8/626.3 kB 2.0 MB/s eta 0:00:01\n",
      "   ------------------------------ --------- 481.3/626.3 kB 3.8 MB/s eta 0:00:01\n",
      "   ---------------------------------------- 626.3/626.3 kB 3.9 MB/s eta 0:00:00\n",
      "Installing collected packages: textblob\n",
      "Successfully installed textblob-0.18.0.post0\n",
      "Note: you may need to restart the kernel to use updated packages.\n"
     ]
    }
   ],
   "source": [
    "pip install textblob"
   ]
  },
  {
   "cell_type": "markdown",
   "id": "bff51f12",
   "metadata": {},
   "source": [
    "## Q7: What are the most popular product reviews?"
   ]
  },
  {
   "cell_type": "code",
   "execution_count": 80,
   "id": "517b1d34",
   "metadata": {},
   "outputs": [
    {
     "name": "stdout",
     "output_type": "stream",
     "text": [
      "      product_id                                       product_name  \\\n",
      "155   B09XJ1LM7R  7SEVEN® Compatible for Tata Sky Remote Origina...   \n",
      "1237  B0B7NWGXS6  Havells Bero Quartz Heater Black 800w 2 Heat S...   \n",
      "145   B00RFWNJMC  Airtel DigitalTV DTH Remote SD/HD/HD Recording...   \n",
      "22    B09F6S8BT6  Samsung 80 cm (32 Inches) Wondertainment Serie...   \n",
      "152   B08PV1X771  Samsung 80 cm (32 inches) Wondertainment Serie...   \n",
      "723   B09F6S8BT6  Samsung 80 cm (32 Inches) Wondertainment Serie...   \n",
      "1463  B00J5DYCCA  Havells Ventil Air DSP 230mm Exhaust Fan (Pist...   \n",
      "1198  B09SPTNG58  Crompton Sea Sapphira 1200 mm Ultra High Speed...   \n",
      "738   B08MZQBFLN  Callas Multipurpose Foldable Laptop Table with...   \n",
      "1367  B07LG96SDB  ESN 999 Supreme Quality 1500W Immersion Water ...   \n",
      "\n",
      "                                               category  discounted_price  \\\n",
      "155   Electronics|HomeTheater,TV&Video|Accessories|R...             399.0   \n",
      "1237  Home&Kitchen|Heating,Cooling&AirQuality|RoomHe...            2439.0   \n",
      "145   Electronics|HomeTheater,TV&Video|Accessories|R...             195.0   \n",
      "22    Electronics|HomeTheater,TV&Video|Televisions|S...           13490.0   \n",
      "152   Electronics|HomeTheater,TV&Video|Televisions|S...           15490.0   \n",
      "723   Electronics|HomeTheater,TV&Video|Televisions|S...           13490.0   \n",
      "1463  Home&Kitchen|Heating,Cooling&AirQuality|Fans|E...            1399.0   \n",
      "1198  Home&Kitchen|Heating,Cooling&AirQuality|Fans|C...            1449.0   \n",
      "738   Computers&Accessories|Accessories&Peripherals|...             849.0   \n",
      "1367  Home&Kitchen|Heating,Cooling&AirQuality|WaterH...             335.0   \n",
      "\n",
      "      actual_price  discount_percentage  rating  rating_count  \\\n",
      "155          799.0            50.062578     4.3          12.0   \n",
      "1237        2545.0             4.165029     4.1          25.0   \n",
      "145          499.0            60.921844     3.7        1383.0   \n",
      "22         22900.0            41.091703     4.3       16299.0   \n",
      "152        20900.0            25.885167     4.3       16299.0   \n",
      "723        22900.0            41.091703     4.3       16299.0   \n",
      "1463        1890.0            25.978836     4.0        8031.0   \n",
      "1198        2349.0            38.314176     3.9        9019.0   \n",
      "738         4999.0            83.016603     4.0       20457.0   \n",
      "1367         510.0            34.313725     3.8        3195.0   \n",
      "\n",
      "                                          about_product  \\\n",
      "155   [Compatible] All model of dth SD / HD / HD+ Pl...   \n",
      "1237  Two quartz heating tubes|Carry Handle For Easy...   \n",
      "145                 Compatible with SD and HD Recording   \n",
      "22    Resolution: HD Ready (1366x768) | Refresh Rate...   \n",
      "152   Resolution: HD Ready (1366x768) | Refresh Rate...   \n",
      "723   Resolution: HD Ready (1366x768) | Refresh Rate...   \n",
      "1463  Fan sweep area: 230 MM ; Noise level: (40 - 45...   \n",
      "1198  PRODUCT: Crompton's corrosion resistant high p...   \n",
      "738   【WATCH, PLAY, STUDY - WITHOUT LEAVING THE BED!...   \n",
      "1367  Specially designed heating element for quick h...   \n",
      "\n",
      "                                                user_id  \\\n",
      "155                        AE242TR3GQ6TYC6W4SJ5UYYKBTYQ   \n",
      "1237  AFM4A33L64TPLILW4OHTSKRZR3NQ,AH6NEABVASSTXS6RP...   \n",
      "145   AGD2H2SMDLQK62MH7BFWQ2INBP2A,AELIUKITTHS3MSGTS...   \n",
      "22    AHEVO4Q5NM4YXMG2HDDXC5XMBGRQ,AFZPH7ZAWX5VDY3HO...   \n",
      "152   AHEVO4Q5NM4YXMG2HDDXC5XMBGRQ,AFZPH7ZAWX5VDY3HO...   \n",
      "723   AHEVO4Q5NM4YXMG2HDDXC5XMBGRQ,AFZPH7ZAWX5VDY3HO...   \n",
      "1463  AF2JQCLSCY3QJATWUNNHUSVUPNQQ,AFDMLUXC5LS5RXDJS...   \n",
      "1198  AENJBTR2KDJMOAEQA4AROLV244QQ,AE666QCFHN4ZT5Q6Y...   \n",
      "738   AHB4AEOCLEVH2JSTXPU737KTXS4Q,AHXC62FGJRYSCJEBZ...   \n",
      "1367  AHIDFZK6JPIY7FCTPZQJR6MSWV7Q,AGWW4VSBX2UUCMM5V...   \n",
      "\n",
      "                                              user_name  \\\n",
      "155                                         anurag jain   \n",
      "1237                 Amit Sood,Tarun Mohan,Shravani Raj   \n",
      "145   ABHAY SINGH,kapil,Amazon Customer,M.V.SUBBA RA...   \n",
      "22    Rahman Ali,MARIYA DASS,Md Aftab,roshan s.,Moha...   \n",
      "152   Rahman Ali,MARIYA DASS,Md Aftab,roshan s.,Moha...   \n",
      "723   Rahman Ali,MARIYA DASS,Md Aftab,roshan s.,Moha...   \n",
      "1463  Shubham Dubey,E.GURUBARAN,Mayank S.,eusuf khan...   \n",
      "1198  Mahenddhra,Pavan Sisode,Archana Sekhar,chandan...   \n",
      "738   Jasmeen,Santam paul,Deepak,Perabathula Sriniva...   \n",
      "1367  Amazon Customer,kapil kumar sharma,Shilpi,Sant...   \n",
      "\n",
      "                                              review_id  \\\n",
      "155                                      R38OAD16RVS9D4   \n",
      "1237       R2TWO1XR7BGSHO,R1683BA4KIYFUI,R2BTLKVDN71QOW   \n",
      "145   R2RV2M8NMHN3R6,R39R9NAW42YGZ7,R1P3SC4CEA50V1,R...   \n",
      "22    R1SN0D4DFBKAZI,R1SX5L77L2CD6V,R1NAZ6M4QBUJMK,R...   \n",
      "152   R1SN0D4DFBKAZI,R1SX5L77L2CD6V,R1NAZ6M4QBUJMK,R...   \n",
      "723   R1SN0D4DFBKAZI,R1SX5L77L2CD6V,R1NAZ6M4QBUJMK,R...   \n",
      "1463  R39Q2Y79MM9SWK,R3079BG1NIH6MB,R29A31ZELTZNJM,R...   \n",
      "1198  R19X0TLJFOL8RV,R3H2XBOSPH6NZR,R187CEHOWSXVIR,R...   \n",
      "738   R1GJXMBEY4O49A,R2RJ4QKYQ0VWIL,R2C6XBMID12B8B,R...   \n",
      "1367  R205BUIEOZSB27,R3KAOEMO5MHN5A,R1DD7V7FUTYL3H,R...   \n",
      "\n",
      "                                           review_title  \\\n",
      "155                                          do not buy   \n",
      "1237  Good product and budget price,I purchased this...   \n",
      "145   Good product,Not bad,WORKING WITH Airtel DTH,G...   \n",
      "22    Good,Sound is very low another brand comparing...   \n",
      "152   Good,Sound is very low another brand comparing...   \n",
      "723   Good,Sound is very low another brand comparing...   \n",
      "1463  Fan Speed is slow,Good quality,Good product,go...   \n",
      "1198  little bit good,Not Bad,sleek,good,Good produc...   \n",
      "738   Nice but price should be reduced,WORTH FOR MON...   \n",
      "1367  Poor product,Not working Properly,Average,Nice...   \n",
      "\n",
      "                                         review_content  \\\n",
      "155   tv on off not working, so difficult to battery...   \n",
      "1237  Like and happy,,Please don't buy this heater, ...   \n",
      "145   Value of money,Usually  gd,Good Product,Good,Q...   \n",
      "22    Overall good.,TV picture ok smart betterSound ...   \n",
      "152   Overall good.,TV picture ok smart betterSound ...   \n",
      "723   Overall good.,TV picture ok smart betterSound ...   \n",
      "1463  I have installed this in my kitchen working fi...   \n",
      "1198  not a eassy to bare this product , in this pro...   \n",
      "738   Price is high,https://m.media-amazon.com/image...   \n",
      "1367  This product of yours company is heating 5 lit...   \n",
      "\n",
      "                                               img_link  \\\n",
      "155   https://m.media-amazon.com/images/W/WEBP_40237...   \n",
      "1237  https://m.media-amazon.com/images/I/41EQwIB-rK...   \n",
      "145   https://m.media-amazon.com/images/W/WEBP_40237...   \n",
      "22    https://m.media-amazon.com/images/W/WEBP_40237...   \n",
      "152   https://m.media-amazon.com/images/W/WEBP_40237...   \n",
      "723   https://m.media-amazon.com/images/I/51q3+E64az...   \n",
      "1463  https://m.media-amazon.com/images/W/WEBP_40237...   \n",
      "1198  https://m.media-amazon.com/images/W/WEBP_40237...   \n",
      "738   https://m.media-amazon.com/images/W/WEBP_40237...   \n",
      "1367  https://m.media-amazon.com/images/W/WEBP_40237...   \n",
      "\n",
      "                                           product_link  \\\n",
      "155   https://www.amazon.in/7SEVEN%C2%AE-Compatible-...   \n",
      "1237  https://www.amazon.in/Havells-Quartz-Settings-...   \n",
      "145   https://www.amazon.in/OXYURA-Airtel-Digital-Re...   \n",
      "22    https://www.amazon.in/Samsung-Inches-Wondertai...   \n",
      "152   https://www.amazon.in/Samsung-inches-Wondertai...   \n",
      "723   https://www.amazon.in/Samsung-Inches-Wondertai...   \n",
      "1463  https://www.amazon.in/Havells-Ventilair-230mm-...   \n",
      "1198  https://www.amazon.in/CROMPTON-Sapphira-Ultra-...   \n",
      "738   https://www.amazon.in/Callas-Multipurpose-Brea...   \n",
      "1367  https://www.amazon.in/ESN-999-Quality-Immersio...   \n",
      "\n",
      "                                               keywords  sentiment  \n",
      "155   [compatible, for, tata, sky, remote, original,...  -0.600000  \n",
      "1237  [havells, bero, quartz, heater, black, heat, s...  -0.225000  \n",
      "145   [airtel, digitaltv, dth, remote, recording, co...  -0.179762  \n",
      "22    [samsung, cm, wondertainment, series, hd, read...  -0.172245  \n",
      "152   [samsung, cm, wondertainment, series, hd, read...  -0.172245  \n",
      "723   [samsung, cm, wondertainment, series, hd, read...  -0.172245  \n",
      "1463          [havells, ventil, air, dsp, exhaust, fan]  -0.170167  \n",
      "1198  [crompton, sea, sapphira, mm, ultra, high, spe...  -0.122500  \n",
      "738   [callas, multipurpose, foldable, laptop, table...  -0.118750  \n",
      "1367  [esn, supreme, quality, immersion, water, heat...  -0.112500  \n"
     ]
    }
   ],
   "source": [
    "\n",
    "from textblob import TextBlob  # Import TextBlob library\n",
    "# Select review column\n",
    "amazon[[\"product_id\", \"user_id\", \"review_content\"]]\n",
    "\n",
    "# Calculate sentiment score for each review\n",
    "amazon[\"sentiment\"] = amazon[\"review_content\"].apply(lambda text: TextBlob(text).sentiment.polarity)\n",
    "\n",
    "# Sort by sentiment score (ascending for positive)\n",
    "amazon_sorted = amazon.sort_values(by=\"sentiment\", ascending=True)\n",
    "\n",
    "# Display top reviews based on a desired number (e.g., top 10)\n",
    "top_reviews = amazon_sorted.head(10)\n",
    "print(top_reviews)"
   ]
  },
  {
   "cell_type": "markdown",
   "id": "49fa490d",
   "metadata": {},
   "source": [
    "OUTPUT :\n",
    "* The overall sentiment scores are relatively low, suggesting a tendency towards neutral or slightly negative reviews in the sample.\n",
    "\n",
    "* The review with the highest sentiment score is \"I have installed this in my kitchen working fine\" (product_id 1463) with a score of -0.170167, indicating a mildly positive sentiment.\n",
    "\n",
    "* The review with the lowest sentiment score is \"tv on off not working, so difficult to battery charge\" (product_id 155) with a score of -0.600000, suggesting a strongly negative sentiment.\n",
    "\n",
    "* Several reviews mention issues with battery charging (product_id 155), product quality (product_id 1237), and ease of use (product_id 1198), highlighting potential areas for improvement.\n",
    "\n",
    "* Some reviews express both positive and negative aspects within the same text, like \"Like and happy,,Please don't buy this heater\" (product_id 1237), suggesting a nuanced evaluation of the product.\n",
    "\n",
    "* The user_id column seems to contain commas, indicating multiple user IDs for some reviews. This might need investigation to ensure accuracy.\n",
    "\n",
    "* Reviews for product_id 22, 152, and 723 have identical content, suggesting potential data duplication or errors."
   ]
  },
  {
   "cell_type": "markdown",
   "id": "ef563eed",
   "metadata": {},
   "source": [
    "## Q8: What is the correlation between discounted_price and rating?"
   ]
  },
  {
   "cell_type": "code",
   "execution_count": 81,
   "id": "baa6ba13",
   "metadata": {},
   "outputs": [
    {
     "name": "stdout",
     "output_type": "stream",
     "text": [
      "Correlation between discounted_price and rating: 0.12\n"
     ]
    }
   ],
   "source": [
    "# Calculate the correlation coefficient\n",
    "correlation_coefficient = amazon[\"discounted_price\"].corr(amazon[\"rating\"])\n",
    "\n",
    "# Print the correlation coefficient with two decimal places\n",
    "print(f\"Correlation between discounted_price and rating: {correlation_coefficient:.2f}\")"
   ]
  },
  {
   "cell_type": "markdown",
   "id": "8d7e66d1",
   "metadata": {},
   "source": [
    "OUTPUT :\n",
    "* Discounted price and rating have a weak positive correlation. This means that products with higher discounted prices tend to have slightly higher ratings, but the relationship is not very strong."
   ]
  },
  {
   "cell_type": "markdown",
   "id": "24a55e1c",
   "metadata": {},
   "source": [
    "## Q9: What are the Top 5 categories based with highest ratings?"
   ]
  },
  {
   "cell_type": "code",
   "execution_count": 82,
   "id": "4f45c362",
   "metadata": {},
   "outputs": [
    {
     "name": "stdout",
     "output_type": "stream",
     "text": [
      "Top 5 categories with highest average ratings:\n",
      "1. Computers&Accessories|Tablets: 4.60\n",
      "2. Computers&Accessories|NetworkingDevices|NetworkAdapters|PowerLANAdapters: 4.50\n",
      "3. Electronics|Cameras&Photography|Accessories|Film: 4.50\n",
      "4. Electronics|HomeAudio|MediaStreamingDevices|StreamingClients: 4.50\n",
      "5. OfficeProducts|OfficeElectronics|Calculators|Basic: 4.50\n"
     ]
    }
   ],
   "source": [
    "# Group data by category and calculate average rating\n",
    "average_ratings = amazon.groupby(\"category\")[\"rating\"].mean().reset_index()\n",
    "\n",
    "# Sort by average rating in descending order\n",
    "average_ratings = average_ratings.sort_values(by=\"rating\", ascending=False)\n",
    "\n",
    "# Print the top 5 categories\n",
    "print(\"Top 5 categories with highest average ratings:\")\n",
    "for i in range(5):\n",
    "    category = average_ratings.iloc[i][\"category\"]\n",
    "    average_rating = average_ratings.iloc[i][\"rating\"]\n",
    "    print(f\"{i+1}. {category}: {average_rating:.2f}\")"
   ]
  },
  {
   "cell_type": "markdown",
   "id": "04b00c9f",
   "metadata": {},
   "source": [
    "OUTPUT :\n",
    "* The top 5 categories have average ratings between 4.50 and 4.60, indicating overall positive customer satisfaction within these areas.\n",
    "* Most of the top-rated categories fall within technology-related domains, including tablets, networking devices, photography accessories, media streaming devices, and calculators.\n",
    "* Within broader categories like \"Computers & Accessories\" and \"Electronics,\" specific subcategories emerge as particularly well-rated, such as tablets, powerline adapters, film accessories, and streaming clients.\n",
    "* Four categories share a rating of 4.50, suggesting similar levels of customer satisfaction across these areas.\n",
    "* The presence of \"Basic Calculators\" in the top 5 suggests that even relatively simple products can achieve high ratings if they meet customer needs effectively."
   ]
  },
  {
   "cell_type": "markdown",
   "id": "ae9547e4",
   "metadata": {},
   "source": [
    "# Conclusion"
   ]
  },
  {
   "cell_type": "markdown",
   "id": "2335dc4f",
   "metadata": {},
   "source": [
    "The primary goal of this project is to analyze the Amazon Sales dataset and identify insights based on the data. The Amazon Sales dataset is a valuable resource for businesses and researchers alike. It provides a wealth of information about customer behavior, product trends, and market conditions. By conducting exploratory data analysis (EDA) on this dataset, businesses can gain valuable insights that can help them make better decisions about their products, marketing, and operations."
   ]
  },
  {
   "cell_type": "markdown",
   "id": "2d46b684",
   "metadata": {},
   "source": [
    "## Contact Details : "
   ]
  },
  {
   "cell_type": "markdown",
   "id": "994d40e3",
   "metadata": {},
   "source": [
    "- Author : Moghees Hashmi\n",
    "- LinkedIn : https://www.linkedin.com/in/moghees-hashmi/"
   ]
  },
  {
   "cell_type": "markdown",
   "id": "aabfab8e",
   "metadata": {},
   "source": [
    "While Working on this notebook we took help from followings : \n",
    "* YouTube\n",
    "* Amazon.in\n",
    "* W3 School\n",
    "\n",
    "Request : Please do contact if you found any mistake I'll be thankful for your consideratioan and appreciation."
   ]
  }
 ],
 "metadata": {
  "kernelspec": {
   "display_name": "Python 3 (ipykernel)",
   "language": "python",
   "name": "python3"
  },
  "language_info": {
   "codemirror_mode": {
    "name": "ipython",
    "version": 3
   },
   "file_extension": ".py",
   "mimetype": "text/x-python",
   "name": "python",
   "nbconvert_exporter": "python",
   "pygments_lexer": "ipython3",
   "version": "3.11.4"
  }
 },
 "nbformat": 4,
 "nbformat_minor": 5
}
